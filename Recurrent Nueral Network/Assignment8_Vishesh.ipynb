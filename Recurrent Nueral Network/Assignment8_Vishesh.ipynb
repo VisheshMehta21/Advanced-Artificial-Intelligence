{
 "cells": [
  {
   "cell_type": "code",
   "execution_count": 46,
   "id": "ff70ca69-7a97-4ad0-b1f8-503a4aeffdeb",
   "metadata": {},
   "outputs": [
    {
     "name": "stdout",
     "output_type": "stream",
     "text": [
      "20000\n",
      "20000\n"
     ]
    }
   ],
   "source": [
    "#Creating Dataset\n",
    "\n",
    "queries = []\n",
    "answers = []\n",
    "def create_dataset():\n",
    "    for i in range(100):\n",
    "        for j in range(100):\n",
    "            query1 = str(i) + '+' + str(j)\n",
    "            query2 = str(i) + '-' + str(j)\n",
    "            answer1 = '+' + str(i+j)\n",
    "            if(i-j < 0):\n",
    "                answer2 = str(i-j)\n",
    "            else:\n",
    "                answer2 = '+' + str(i-j)\n",
    "            if(len(query1) < 5):\n",
    "                query1 = ('{: <5}'.format(query1))\n",
    "                query2 = ('{: <5}'.format(query2))\n",
    "            if(len(answer1) < 4):\n",
    "                answer1 = ('{: <4}'.format(answer1))   \n",
    "            if(len(answer2) < 4):\n",
    "                answer2 = ('{: <4}'.format(answer2))\n",
    "            queries.append(query1)\n",
    "            queries.append(query2)\n",
    "            answers.append(answer1)\n",
    "            answers.append(answer2)\n",
    "create_dataset()\n",
    "print(len(queries))\n",
    "print(len(answers))"
   ]
  },
  {
   "cell_type": "code",
   "execution_count": 47,
   "id": "bf023091-b808-4224-b3b7-0494d35be693",
   "metadata": {},
   "outputs": [
    {
     "name": "stdout",
     "output_type": "stream",
     "text": [
      "[[0. 0. 0. 0. 0. 0. 0. 0. 0. 0. 0. 0. 0.]\n",
      " [0. 0. 0. 0. 0. 0. 0. 0. 0. 0. 0. 0. 0.]\n",
      " [0. 0. 0. 0. 0. 0. 0. 0. 0. 0. 0. 0. 0.]\n",
      " [0. 0. 0. 0. 0. 0. 0. 0. 0. 0. 0. 0. 0.]\n",
      " [0. 0. 0. 0. 0. 0. 0. 0. 0. 0. 0. 0. 0.]]\n"
     ]
    }
   ],
   "source": [
    "import numpy as np\n",
    "\n",
    "x = np.zeros((5, 13)) \n",
    "print(x)"
   ]
  },
  {
   "cell_type": "code",
   "execution_count": 48,
   "id": "ee58a06b-5b99-41fe-a119-a95b3f758799",
   "metadata": {},
   "outputs": [
    {
     "name": "stdout",
     "output_type": "stream",
     "text": [
      "20000\n",
      "[[[0. 0. 0. ... 1. 0. 0.]\n",
      "  [1. 0. 0. ... 0. 0. 0.]\n",
      "  [0. 0. 0. ... 0. 0. 1.]\n",
      "  [0. 0. 0. ... 0. 0. 1.]]\n",
      "\n",
      " [[0. 0. 0. ... 1. 0. 0.]\n",
      "  [1. 0. 0. ... 0. 0. 0.]\n",
      "  [0. 0. 0. ... 0. 0. 1.]\n",
      "  [0. 0. 0. ... 0. 0. 1.]]\n",
      "\n",
      " [[0. 0. 0. ... 1. 0. 0.]\n",
      "  [0. 1. 0. ... 0. 0. 0.]\n",
      "  [0. 0. 0. ... 0. 0. 1.]\n",
      "  [0. 0. 0. ... 0. 0. 1.]]\n",
      "\n",
      " ...\n",
      "\n",
      " [[0. 0. 0. ... 1. 0. 0.]\n",
      "  [0. 1. 0. ... 0. 0. 0.]\n",
      "  [0. 0. 0. ... 0. 0. 1.]\n",
      "  [0. 0. 0. ... 0. 0. 1.]]\n",
      "\n",
      " [[0. 0. 0. ... 1. 0. 0.]\n",
      "  [0. 1. 0. ... 0. 0. 0.]\n",
      "  [0. 0. 0. ... 0. 0. 0.]\n",
      "  [0. 0. 0. ... 0. 0. 0.]]\n",
      "\n",
      " [[0. 0. 0. ... 1. 0. 0.]\n",
      "  [1. 0. 0. ... 0. 0. 0.]\n",
      "  [0. 0. 0. ... 0. 0. 1.]\n",
      "  [0. 0. 0. ... 0. 0. 1.]]]\n"
     ]
    }
   ],
   "source": [
    "#One-hot encoding\n",
    "\n",
    "dictionary_encoding = {\n",
    "    '0' : 0,\n",
    "    '1' : 1,\n",
    "    '2' : 2,\n",
    "    '3' : 3,\n",
    "    '4' : 4, \n",
    "    '5' : 5, \n",
    "    '6' : 6,\n",
    "    '7' : 7,\n",
    "    '8' : 8,\n",
    "    '9' : 9, \n",
    "    '+' : 10,\n",
    "    '-' : 11,\n",
    "    ' ' : 12\n",
    "}\n",
    "encoded_queries = []\n",
    "encoded_answers = []\n",
    "def one_hot_encoding():\n",
    "    for query in queries:\n",
    "        temp = np.zeros((5, 13))                   \n",
    "        for i,c in enumerate(query):\n",
    "            temp[i][dictionary_encoding.get(c)] = 1\n",
    "        encoded_queries.append(temp)\n",
    "\n",
    "    for answer in answers:\n",
    "        temp = np.zeros((4, 13))                   \n",
    "        for i,c in enumerate(answer):\n",
    "            temp[i][dictionary_encoding.get(c)] = 1\n",
    "        encoded_answers.append(temp)\n",
    "one_hot_encoding()\n",
    "encoded_queries=np.array(encoded_query)\n",
    "encoded_answers=np.array(encoded_answers)\n",
    "print(len(encoded_queries))\n",
    "print(encoded_answers)"
   ]
  },
  {
   "cell_type": "code",
   "execution_count": 49,
   "id": "246e9b47-2e04-4603-aa73-69cb16ba1add",
   "metadata": {},
   "outputs": [],
   "source": [
    "from tensorflow.keras import Sequential\n",
    "from tensorflow.keras.layers import LSTM, RepeatVector, Dense\n",
    "from tensorflow.keras.optimizers import Adam\n",
    "from tensorflow.keras.callbacks import LearningRateScheduler"
   ]
  },
  {
   "cell_type": "code",
   "execution_count": 50,
   "id": "4304dc58-9f02-426b-81a3-4893e7bef32b",
   "metadata": {},
   "outputs": [
    {
     "name": "stderr",
     "output_type": "stream",
     "text": [
      "WARNING:absl:At this time, the v2.11+ optimizer `tf.keras.optimizers.Adam` runs slowly on M1/M2 Macs, please use the legacy Keras optimizer instead, located at `tf.keras.optimizers.legacy.Adam`.\n"
     ]
    }
   ],
   "source": [
    "model = Sequential()\n",
    "model.add(LSTM(128, input_shape=(5, 13), return_sequences=False))\n",
    "model.add(RepeatVector(4))\n",
    "model.add(LSTM(128, return_sequences=True))\n",
    "model.add(Dense(13, activation='softmax'))\n",
    "\n",
    "model.compile(\n",
    "    optimizer=Adam(learning_rate=0.001),\n",
    "    loss=\"categorical_crossentropy\",\n",
    "    metrics=[\"accuracy\"]\n",
    ")"
   ]
  },
  {
   "cell_type": "markdown",
   "id": "490e9801-f807-44cd-9a71-3611ec01f59d",
   "metadata": {},
   "source": [
    "## Encoder-Decoder\n",
    "\n",
    "* The model has two lstm layers and a dense layer with softmax activation.\n",
    "* The first lstm layer acts as encoder. It takes input of (5*13) array (The query) and creates a one-dimensional output of length 128.\n",
    "* The  RepeatVector(4), duplicates the output of previous layer 4 times. Hence the input of the 2nd lstm layer is 4, 128 length vectors.\n",
    "* the second lstm layer acts as decoder. It produces the 4 outut vector of length 13.\n",
    "* Finally this (4*13) array is passed through the dense layer with softmax activation to give the final predicted value of the model.\n",
    "  "
   ]
  },
  {
   "cell_type": "code",
   "execution_count": 65,
   "id": "43155ea0-f27b-4355-882b-2c5817af4440",
   "metadata": {},
   "outputs": [],
   "source": [
    "from sklearn.model_selection import train_test_split"
   ]
  },
  {
   "cell_type": "code",
   "execution_count": 52,
   "id": "28b92ea9-71c2-41f2-b5c5-226a4c7b06fd",
   "metadata": {},
   "outputs": [
    {
     "name": "stdout",
     "output_type": "stream",
     "text": [
      "(14000, 5, 13)\n",
      "(3000, 5, 13)\n",
      "(3000, 5, 13)\n"
     ]
    }
   ],
   "source": [
    "X_training, X_test, Y_training, Y_test = train_test_split(encoded_queries, encoded_answers, test_size=0.15, shuffle=True)\n",
    "\n",
    "X_train,X_val,Y_train,Y_val = train_test_split(X_training,Y_training, test_size=0.15/0.85, shuffle=True)\n",
    "\n",
    "print(X_train.shape)\n",
    "print(X_val.shape)\n",
    "print(X_test.shape)"
   ]
  },
  {
   "cell_type": "code",
   "execution_count": 53,
   "id": "ddc39707-83fa-4479-b299-803db5d1e744",
   "metadata": {},
   "outputs": [
    {
     "name": "stdout",
     "output_type": "stream",
     "text": [
      "Model: \"sequential_4\"\n",
      "_________________________________________________________________\n",
      " Layer (type)                Output Shape              Param #   \n",
      "=================================================================\n",
      " lstm_8 (LSTM)               (None, 128)               72704     \n",
      "                                                                 \n",
      " repeat_vector_4 (RepeatVec  (None, 4, 128)            0         \n",
      " tor)                                                            \n",
      "                                                                 \n",
      " lstm_9 (LSTM)               (None, 4, 128)            131584    \n",
      "                                                                 \n",
      " dense_4 (Dense)             (None, 4, 13)             1677      \n",
      "                                                                 \n",
      "=================================================================\n",
      "Total params: 205965 (804.55 KB)\n",
      "Trainable params: 205965 (804.55 KB)\n",
      "Non-trainable params: 0 (0.00 Byte)\n",
      "_________________________________________________________________\n"
     ]
    }
   ],
   "source": [
    "model.summary()"
   ]
  },
  {
   "cell_type": "code",
   "execution_count": 54,
   "id": "7964c6d2-3246-41a3-817c-5f20a95dee6d",
   "metadata": {},
   "outputs": [
    {
     "name": "stdout",
     "output_type": "stream",
     "text": [
      "Epoch 1/50\n",
      "875/875 [==============================] - 7s 6ms/step - loss: 1.3734 - accuracy: 0.5139 - val_loss: 1.1634 - val_accuracy: 0.5853\n",
      "Epoch 2/50\n",
      "875/875 [==============================] - 5s 5ms/step - loss: 1.0580 - accuracy: 0.6157 - val_loss: 0.9907 - val_accuracy: 0.6351\n",
      "Epoch 3/50\n",
      "875/875 [==============================] - 5s 5ms/step - loss: 0.9406 - accuracy: 0.6577 - val_loss: 0.8931 - val_accuracy: 0.6801\n",
      "Epoch 4/50\n",
      "875/875 [==============================] - 5s 5ms/step - loss: 0.8685 - accuracy: 0.6840 - val_loss: 0.8259 - val_accuracy: 0.7006\n",
      "Epoch 5/50\n",
      "875/875 [==============================] - 5s 5ms/step - loss: 0.8138 - accuracy: 0.7030 - val_loss: 0.7984 - val_accuracy: 0.7034\n",
      "Epoch 6/50\n",
      "875/875 [==============================] - 5s 5ms/step - loss: 0.7793 - accuracy: 0.7120 - val_loss: 0.7777 - val_accuracy: 0.7107\n",
      "Epoch 7/50\n",
      "875/875 [==============================] - 5s 6ms/step - loss: 0.7423 - accuracy: 0.7223 - val_loss: 0.7697 - val_accuracy: 0.7107\n",
      "Epoch 8/50\n",
      "875/875 [==============================] - 5s 5ms/step - loss: 0.7109 - accuracy: 0.7342 - val_loss: 0.6906 - val_accuracy: 0.7414\n",
      "Epoch 9/50\n",
      "875/875 [==============================] - 5s 5ms/step - loss: 0.6824 - accuracy: 0.7463 - val_loss: 0.6853 - val_accuracy: 0.7376\n",
      "Epoch 10/50\n",
      "875/875 [==============================] - 5s 6ms/step - loss: 0.6427 - accuracy: 0.7608 - val_loss: 0.6515 - val_accuracy: 0.7544\n",
      "Epoch 11/50\n",
      "875/875 [==============================] - 5s 5ms/step - loss: 0.5826 - accuracy: 0.7824 - val_loss: 0.5497 - val_accuracy: 0.7895\n",
      "Epoch 12/50\n",
      "875/875 [==============================] - 5s 6ms/step - loss: 0.5071 - accuracy: 0.8174 - val_loss: 0.5737 - val_accuracy: 0.7711\n",
      "Epoch 13/50\n",
      "875/875 [==============================] - 5s 5ms/step - loss: 0.4230 - accuracy: 0.8515 - val_loss: 0.3980 - val_accuracy: 0.8508\n",
      "Epoch 14/50\n",
      "875/875 [==============================] - 5s 6ms/step - loss: 0.3484 - accuracy: 0.8816 - val_loss: 0.3256 - val_accuracy: 0.8915\n",
      "Epoch 15/50\n",
      "875/875 [==============================] - 5s 5ms/step - loss: 0.2794 - accuracy: 0.9101 - val_loss: 0.2475 - val_accuracy: 0.9248\n",
      "Epoch 16/50\n",
      "875/875 [==============================] - 5s 6ms/step - loss: 0.2318 - accuracy: 0.9281 - val_loss: 0.2472 - val_accuracy: 0.9184\n",
      "Epoch 17/50\n",
      "875/875 [==============================] - 5s 5ms/step - loss: 0.1914 - accuracy: 0.9446 - val_loss: 0.1751 - val_accuracy: 0.9480\n",
      "Epoch 18/50\n",
      "875/875 [==============================] - 5s 5ms/step - loss: 0.1619 - accuracy: 0.9551 - val_loss: 0.1346 - val_accuracy: 0.9663\n",
      "Epoch 19/50\n",
      "875/875 [==============================] - 5s 5ms/step - loss: 0.1338 - accuracy: 0.9650 - val_loss: 0.1195 - val_accuracy: 0.9728\n",
      "Epoch 20/50\n",
      "875/875 [==============================] - 5s 5ms/step - loss: 0.1210 - accuracy: 0.9689 - val_loss: 0.1027 - val_accuracy: 0.9724\n",
      "Epoch 21/50\n",
      "875/875 [==============================] - 5s 5ms/step - loss: 0.0932 - accuracy: 0.9770 - val_loss: 0.0964 - val_accuracy: 0.9758\n",
      "Epoch 22/50\n",
      "875/875 [==============================] - 5s 5ms/step - loss: 0.0935 - accuracy: 0.9764 - val_loss: 0.0896 - val_accuracy: 0.9735\n",
      "Epoch 23/50\n",
      "875/875 [==============================] - 5s 6ms/step - loss: 0.0904 - accuracy: 0.9795 - val_loss: 0.0745 - val_accuracy: 0.9787\n",
      "Epoch 24/50\n",
      "875/875 [==============================] - 5s 5ms/step - loss: 0.0716 - accuracy: 0.9812 - val_loss: 0.0739 - val_accuracy: 0.9785\n",
      "Epoch 25/50\n",
      "875/875 [==============================] - 5s 6ms/step - loss: 0.0695 - accuracy: 0.9834 - val_loss: 0.1042 - val_accuracy: 0.9626\n",
      "Epoch 26/50\n",
      "875/875 [==============================] - 5s 5ms/step - loss: 0.0460 - accuracy: 0.9907 - val_loss: 0.0697 - val_accuracy: 0.9808\n",
      "Epoch 27/50\n",
      "875/875 [==============================] - 5s 6ms/step - loss: 0.0630 - accuracy: 0.9837 - val_loss: 0.0334 - val_accuracy: 0.9949\n",
      "Epoch 28/50\n",
      "875/875 [==============================] - 5s 6ms/step - loss: 0.0537 - accuracy: 0.9853 - val_loss: 0.1160 - val_accuracy: 0.9604\n",
      "Epoch 29/50\n",
      "875/875 [==============================] - 5s 6ms/step - loss: 0.0412 - accuracy: 0.9904 - val_loss: 0.0702 - val_accuracy: 0.9768\n",
      "Epoch 30/50\n",
      "875/875 [==============================] - 5s 6ms/step - loss: 0.0315 - accuracy: 0.9936 - val_loss: 0.0506 - val_accuracy: 0.9841\n",
      "Epoch 31/50\n",
      "875/875 [==============================] - 5s 6ms/step - loss: 0.0590 - accuracy: 0.9855 - val_loss: 0.0301 - val_accuracy: 0.9931\n",
      "Epoch 32/50\n",
      "875/875 [==============================] - 5s 6ms/step - loss: 0.0300 - accuracy: 0.9930 - val_loss: 0.0823 - val_accuracy: 0.9704\n",
      "Epoch 33/50\n",
      "875/875 [==============================] - 5s 6ms/step - loss: 0.0528 - accuracy: 0.9861 - val_loss: 0.0199 - val_accuracy: 0.9970\n",
      "Epoch 34/50\n",
      "875/875 [==============================] - 5s 6ms/step - loss: 0.0118 - accuracy: 0.9994 - val_loss: 0.0220 - val_accuracy: 0.9950\n",
      "Epoch 35/50\n",
      "875/875 [==============================] - 5s 6ms/step - loss: 0.0646 - accuracy: 0.9811 - val_loss: 0.0252 - val_accuracy: 0.9942\n",
      "Epoch 36/50\n",
      "875/875 [==============================] - 7s 8ms/step - loss: 0.0173 - accuracy: 0.9973 - val_loss: 0.0173 - val_accuracy: 0.9970\n",
      "Epoch 37/50\n",
      "875/875 [==============================] - 5s 6ms/step - loss: 0.0581 - accuracy: 0.9832 - val_loss: 0.0411 - val_accuracy: 0.9883\n",
      "Epoch 38/50\n",
      "875/875 [==============================] - 5s 5ms/step - loss: 0.0152 - accuracy: 0.9979 - val_loss: 0.0124 - val_accuracy: 0.9984\n",
      "Epoch 39/50\n",
      "875/875 [==============================] - 7s 8ms/step - loss: 0.0431 - accuracy: 0.9877 - val_loss: 0.0190 - val_accuracy: 0.9965\n",
      "Epoch 40/50\n",
      "875/875 [==============================] - 6s 6ms/step - loss: 0.0138 - accuracy: 0.9977 - val_loss: 0.0391 - val_accuracy: 0.9893\n",
      "Epoch 41/50\n",
      "875/875 [==============================] - 5s 6ms/step - loss: 0.0338 - accuracy: 0.9908 - val_loss: 0.0101 - val_accuracy: 0.9989\n",
      "Epoch 42/50\n",
      "875/875 [==============================] - 5s 5ms/step - loss: 0.0330 - accuracy: 0.9908 - val_loss: 0.0164 - val_accuracy: 0.9962\n",
      "Epoch 43/50\n",
      "875/875 [==============================] - 5s 5ms/step - loss: 0.0063 - accuracy: 0.9997 - val_loss: 0.0086 - val_accuracy: 0.9989\n",
      "Epoch 44/50\n",
      "875/875 [==============================] - 5s 5ms/step - loss: 0.0518 - accuracy: 0.9860 - val_loss: 0.1362 - val_accuracy: 0.9578\n",
      "Epoch 45/50\n",
      "875/875 [==============================] - 5s 5ms/step - loss: 0.0226 - accuracy: 0.9947 - val_loss: 0.0107 - val_accuracy: 0.9987\n",
      "Epoch 46/50\n",
      "875/875 [==============================] - 5s 5ms/step - loss: 0.0059 - accuracy: 0.9996 - val_loss: 0.0249 - val_accuracy: 0.9934\n",
      "Epoch 47/50\n",
      "875/875 [==============================] - 5s 5ms/step - loss: 0.0450 - accuracy: 0.9865 - val_loss: 0.0276 - val_accuracy: 0.9931\n",
      "Epoch 48/50\n",
      "875/875 [==============================] - 5s 5ms/step - loss: 0.0089 - accuracy: 0.9986 - val_loss: 0.0077 - val_accuracy: 0.9990\n",
      "Epoch 49/50\n",
      "875/875 [==============================] - 5s 5ms/step - loss: 0.0481 - accuracy: 0.9861 - val_loss: 0.0133 - val_accuracy: 0.9978\n",
      "Epoch 50/50\n",
      "875/875 [==============================] - 5s 5ms/step - loss: 0.0120 - accuracy: 0.9975 - val_loss: 0.0100 - val_accuracy: 0.9986\n"
     ]
    }
   ],
   "source": [
    "history = model.fit(X_train, Y_train, validation_data=(X_val, Y_val),\n",
    "    epochs=50,\n",
    "    batch_size=16\n",
    ")\n"
   ]
  },
  {
   "cell_type": "code",
   "execution_count": 55,
   "id": "8383cfff-76f0-46b1-9a92-87a432c39349",
   "metadata": {},
   "outputs": [
    {
     "name": "stdout",
     "output_type": "stream",
     "text": [
      "94/94 [==============================] - 0s 2ms/step - loss: 0.0120 - accuracy: 0.9977\n",
      "Loss: 0.012022 \n",
      "Accuracy: 0.997750\n"
     ]
    }
   ],
   "source": [
    "result = model.evaluate(X_test,Y_test)\n",
    "print(\"Loss: %f \\nAccuracy: %f\" % (result[0], result[1]))"
   ]
  },
  {
   "cell_type": "code",
   "execution_count": 56,
   "id": "04ef6758-8b85-4083-9f5f-8f95985143c7",
   "metadata": {},
   "outputs": [],
   "source": [
    "reversed_queries = [query[::-1] for query in queries]\n",
    "reversed_answers = [answer[::-1] for answer in answers]"
   ]
  },
  {
   "cell_type": "code",
   "execution_count": 57,
   "id": "52202ea2-c3f8-4ca9-9f6b-379b83355411",
   "metadata": {},
   "outputs": [
    {
     "name": "stdout",
     "output_type": "stream",
     "text": [
      "[[[0. 0. 0. ... 0. 0. 1.]\n",
      "  [0. 0. 0. ... 0. 0. 1.]\n",
      "  [1. 0. 0. ... 0. 0. 0.]\n",
      "  [0. 0. 0. ... 1. 0. 0.]\n",
      "  [1. 0. 0. ... 0. 0. 0.]]\n",
      "\n",
      " [[0. 0. 0. ... 0. 0. 1.]\n",
      "  [0. 0. 0. ... 0. 0. 1.]\n",
      "  [1. 0. 0. ... 0. 0. 0.]\n",
      "  [0. 0. 0. ... 0. 1. 0.]\n",
      "  [1. 0. 0. ... 0. 0. 0.]]\n",
      "\n",
      " [[0. 0. 0. ... 0. 0. 1.]\n",
      "  [0. 0. 0. ... 0. 0. 1.]\n",
      "  [0. 1. 0. ... 0. 0. 0.]\n",
      "  [0. 0. 0. ... 1. 0. 0.]\n",
      "  [1. 0. 0. ... 0. 0. 0.]]\n",
      "\n",
      " ...\n",
      "\n",
      " [[0. 0. 0. ... 0. 0. 0.]\n",
      "  [0. 0. 0. ... 0. 0. 0.]\n",
      "  [0. 0. 0. ... 0. 1. 0.]\n",
      "  [0. 0. 0. ... 0. 0. 0.]\n",
      "  [0. 0. 0. ... 0. 0. 0.]]\n",
      "\n",
      " [[0. 0. 0. ... 0. 0. 0.]\n",
      "  [0. 0. 0. ... 0. 0. 0.]\n",
      "  [0. 0. 0. ... 1. 0. 0.]\n",
      "  [0. 0. 0. ... 0. 0. 0.]\n",
      "  [0. 0. 0. ... 0. 0. 0.]]\n",
      "\n",
      " [[0. 0. 0. ... 0. 0. 0.]\n",
      "  [0. 0. 0. ... 0. 0. 0.]\n",
      "  [0. 0. 0. ... 0. 1. 0.]\n",
      "  [0. 0. 0. ... 0. 0. 0.]\n",
      "  [0. 0. 0. ... 0. 0. 0.]]]\n",
      "20000\n"
     ]
    }
   ],
   "source": [
    "reverse_encoded_queries = []\n",
    "reverse_encoded_answers = []\n",
    "def one_hot_encoding_reverse():\n",
    "    for query in reversed_queries:\n",
    "        temp = np.zeros((5, 13))                   \n",
    "        for i,c in enumerate(query):\n",
    "            temp[i][dictionary_encoding.get(c)] = 1\n",
    "        reverse_encoded_queries.append(temp)\n",
    "\n",
    "    for answer in reversed_answers:\n",
    "        temp = np.zeros((4, 13))                   \n",
    "        for i,c in enumerate(answer):\n",
    "            temp[i][dictionary_encoding.get(c)] = 1\n",
    "        reverse_encoded_answers.append(temp)\n",
    "one_hot_encoding_reverse()\n",
    "reverse_encoded_queries=np.array(reverse_encoded_queries)\n",
    "reverse_encoded_answers=np.array(reverse_encoded_answers)\n",
    "print(reverse_encoded_queries)\n",
    "print(len(reverse_encoded_answers))"
   ]
  },
  {
   "cell_type": "code",
   "execution_count": 58,
   "id": "085f4220-1e92-4986-9387-c720329be973",
   "metadata": {},
   "outputs": [
    {
     "name": "stdout",
     "output_type": "stream",
     "text": [
      "(14000, 5, 13)\n",
      "(3000, 5, 13)\n",
      "(3000, 5, 13)\n"
     ]
    }
   ],
   "source": [
    "X_training_rev, X_test_rev, Y_training_rev, Y_test_rev = train_test_split(reverse_encoded_queries, reverse_encoded_answers, test_size=0.15, shuffle=True)\n",
    "\n",
    "X_train_rev,X_val_rev,Y_train_rev,Y_val_rev = train_test_split(X_training_rev,Y_training_rev, test_size=0.15/0.85, shuffle=True)\n",
    "\n",
    "print(X_train_rev.shape)\n",
    "print(X_val_rev.shape)\n",
    "print(X_test_rev.shape)"
   ]
  },
  {
   "cell_type": "code",
   "execution_count": 59,
   "id": "e4c8fadc-1944-4eec-9401-e60fb1a45c16",
   "metadata": {},
   "outputs": [
    {
     "name": "stderr",
     "output_type": "stream",
     "text": [
      "WARNING:absl:At this time, the v2.11+ optimizer `tf.keras.optimizers.Adam` runs slowly on M1/M2 Macs, please use the legacy Keras optimizer instead, located at `tf.keras.optimizers.legacy.Adam`.\n"
     ]
    }
   ],
   "source": [
    "model_reversed = Sequential()\n",
    "model_reversed.add(LSTM(128, input_shape=(5, 13), return_sequences=False))\n",
    "model_reversed.add(RepeatVector(4))\n",
    "model_reversed.add(LSTM(128, return_sequences=True))\n",
    "\n",
    "model_reversed.add(Dense(13, activation=\"softmax\"))\n",
    "\n",
    "model_reversed.compile(\n",
    "    optimizer=Adam(learning_rate=0.001),\n",
    "    loss=\"categorical_crossentropy\",\n",
    "    metrics=[\"accuracy\"]\n",
    ")"
   ]
  },
  {
   "cell_type": "code",
   "execution_count": 60,
   "id": "ebe64688-dea0-41d8-931e-b61c5709dd9f",
   "metadata": {},
   "outputs": [
    {
     "name": "stdout",
     "output_type": "stream",
     "text": [
      "Model: \"sequential_5\"\n",
      "_________________________________________________________________\n",
      " Layer (type)                Output Shape              Param #   \n",
      "=================================================================\n",
      " lstm_10 (LSTM)              (None, 128)               72704     \n",
      "                                                                 \n",
      " repeat_vector_5 (RepeatVec  (None, 4, 128)            0         \n",
      " tor)                                                            \n",
      "                                                                 \n",
      " lstm_11 (LSTM)              (None, 4, 128)            131584    \n",
      "                                                                 \n",
      " dense_5 (Dense)             (None, 4, 13)             1677      \n",
      "                                                                 \n",
      "=================================================================\n",
      "Total params: 205965 (804.55 KB)\n",
      "Trainable params: 205965 (804.55 KB)\n",
      "Non-trainable params: 0 (0.00 Byte)\n",
      "_________________________________________________________________\n"
     ]
    }
   ],
   "source": [
    "model_reversed.summary()"
   ]
  },
  {
   "cell_type": "code",
   "execution_count": 61,
   "id": "37e72828-23e1-4a26-8c57-091adfe7842c",
   "metadata": {},
   "outputs": [
    {
     "name": "stdout",
     "output_type": "stream",
     "text": [
      "Epoch 1/50\n",
      "875/875 [==============================] - 7s 6ms/step - loss: 1.3410 - accuracy: 0.5210 - val_loss: 1.1754 - val_accuracy: 0.5771\n",
      "Epoch 2/50\n",
      "875/875 [==============================] - 4s 5ms/step - loss: 1.0041 - accuracy: 0.6354 - val_loss: 0.9099 - val_accuracy: 0.6593\n",
      "Epoch 3/50\n",
      "875/875 [==============================] - 4s 5ms/step - loss: 0.8501 - accuracy: 0.6907 - val_loss: 0.8270 - val_accuracy: 0.6842\n",
      "Epoch 4/50\n",
      "875/875 [==============================] - 5s 5ms/step - loss: 0.7681 - accuracy: 0.7143 - val_loss: 0.7314 - val_accuracy: 0.7297\n",
      "Epoch 5/50\n",
      "875/875 [==============================] - 6s 7ms/step - loss: 0.7147 - accuracy: 0.7331 - val_loss: 0.6884 - val_accuracy: 0.7454\n",
      "Epoch 6/50\n",
      "875/875 [==============================] - 5s 6ms/step - loss: 0.6771 - accuracy: 0.7449 - val_loss: 0.6540 - val_accuracy: 0.7548\n",
      "Epoch 7/50\n",
      "875/875 [==============================] - 5s 5ms/step - loss: 0.6322 - accuracy: 0.7601 - val_loss: 0.5933 - val_accuracy: 0.7720\n",
      "Epoch 8/50\n",
      "875/875 [==============================] - 5s 6ms/step - loss: 0.5795 - accuracy: 0.7789 - val_loss: 0.5382 - val_accuracy: 0.7940\n",
      "Epoch 9/50\n",
      "875/875 [==============================] - 5s 5ms/step - loss: 0.4708 - accuracy: 0.8223 - val_loss: 0.4212 - val_accuracy: 0.8457\n",
      "Epoch 10/50\n",
      "875/875 [==============================] - 5s 5ms/step - loss: 0.3756 - accuracy: 0.8666 - val_loss: 0.4123 - val_accuracy: 0.8500\n",
      "Epoch 11/50\n",
      "875/875 [==============================] - 5s 6ms/step - loss: 0.2884 - accuracy: 0.9088 - val_loss: 0.2486 - val_accuracy: 0.9257\n",
      "Epoch 12/50\n",
      "875/875 [==============================] - 6s 7ms/step - loss: 0.2066 - accuracy: 0.9440 - val_loss: 0.1911 - val_accuracy: 0.9508\n",
      "Epoch 13/50\n",
      "875/875 [==============================] - 5s 5ms/step - loss: 0.1600 - accuracy: 0.9583 - val_loss: 0.1170 - val_accuracy: 0.9735\n",
      "Epoch 14/50\n",
      "875/875 [==============================] - 5s 6ms/step - loss: 0.1199 - accuracy: 0.9711 - val_loss: 0.0882 - val_accuracy: 0.9819\n",
      "Epoch 15/50\n",
      "875/875 [==============================] - 6s 6ms/step - loss: 0.1019 - accuracy: 0.9741 - val_loss: 0.0669 - val_accuracy: 0.9845\n",
      "Epoch 16/50\n",
      "875/875 [==============================] - 5s 6ms/step - loss: 0.0582 - accuracy: 0.9863 - val_loss: 0.0746 - val_accuracy: 0.9797\n",
      "Epoch 17/50\n",
      "875/875 [==============================] - 5s 5ms/step - loss: 0.0647 - accuracy: 0.9825 - val_loss: 0.0473 - val_accuracy: 0.9879\n",
      "Epoch 18/50\n",
      "875/875 [==============================] - 4s 5ms/step - loss: 0.0669 - accuracy: 0.9819 - val_loss: 0.0337 - val_accuracy: 0.9916\n",
      "Epoch 19/50\n",
      "875/875 [==============================] - 4s 5ms/step - loss: 0.0445 - accuracy: 0.9878 - val_loss: 0.1214 - val_accuracy: 0.9588\n",
      "Epoch 20/50\n",
      "875/875 [==============================] - 4s 5ms/step - loss: 0.0374 - accuracy: 0.9904 - val_loss: 0.0411 - val_accuracy: 0.9868\n",
      "Epoch 21/50\n",
      "875/875 [==============================] - 4s 5ms/step - loss: 0.0397 - accuracy: 0.9891 - val_loss: 0.0262 - val_accuracy: 0.9937\n",
      "Epoch 22/50\n",
      "875/875 [==============================] - 5s 5ms/step - loss: 0.0395 - accuracy: 0.9887 - val_loss: 0.0276 - val_accuracy: 0.9920\n",
      "Epoch 23/50\n",
      "875/875 [==============================] - 5s 5ms/step - loss: 0.0340 - accuracy: 0.9911 - val_loss: 0.0161 - val_accuracy: 0.9962\n",
      "Epoch 24/50\n",
      "875/875 [==============================] - 5s 5ms/step - loss: 0.0307 - accuracy: 0.9912 - val_loss: 0.0204 - val_accuracy: 0.9948\n",
      "Epoch 25/50\n",
      "875/875 [==============================] - 4s 5ms/step - loss: 0.0302 - accuracy: 0.9919 - val_loss: 0.0195 - val_accuracy: 0.9945\n",
      "Epoch 26/50\n",
      "875/875 [==============================] - 4s 5ms/step - loss: 0.0311 - accuracy: 0.9910 - val_loss: 0.0159 - val_accuracy: 0.9958\n",
      "Epoch 27/50\n",
      "875/875 [==============================] - 4s 5ms/step - loss: 0.0269 - accuracy: 0.9918 - val_loss: 0.0625 - val_accuracy: 0.9808\n",
      "Epoch 28/50\n",
      "875/875 [==============================] - 4s 5ms/step - loss: 0.0104 - accuracy: 0.9981 - val_loss: 0.0095 - val_accuracy: 0.9977\n",
      "Epoch 29/50\n",
      "875/875 [==============================] - 5s 5ms/step - loss: 0.0396 - accuracy: 0.9880 - val_loss: 0.0187 - val_accuracy: 0.9947\n",
      "Epoch 30/50\n",
      "875/875 [==============================] - 5s 5ms/step - loss: 0.0192 - accuracy: 0.9948 - val_loss: 0.0114 - val_accuracy: 0.9974\n",
      "Epoch 31/50\n",
      "875/875 [==============================] - 6s 7ms/step - loss: 0.0161 - accuracy: 0.9961 - val_loss: 0.1487 - val_accuracy: 0.9501\n",
      "Epoch 32/50\n",
      "875/875 [==============================] - 4s 5ms/step - loss: 0.0258 - accuracy: 0.9924 - val_loss: 0.0062 - val_accuracy: 0.9985\n",
      "Epoch 33/50\n",
      "875/875 [==============================] - 4s 5ms/step - loss: 0.0038 - accuracy: 0.9995 - val_loss: 0.0105 - val_accuracy: 0.9973\n",
      "Epoch 34/50\n",
      "875/875 [==============================] - 4s 5ms/step - loss: 0.0378 - accuracy: 0.9890 - val_loss: 0.0100 - val_accuracy: 0.9975\n",
      "Epoch 35/50\n",
      "875/875 [==============================] - 4s 5ms/step - loss: 0.0257 - accuracy: 0.9922 - val_loss: 0.0125 - val_accuracy: 0.9973\n",
      "Epoch 36/50\n",
      "875/875 [==============================] - 5s 5ms/step - loss: 0.0040 - accuracy: 0.9996 - val_loss: 0.0049 - val_accuracy: 0.9987\n",
      "Epoch 37/50\n",
      "875/875 [==============================] - 5s 5ms/step - loss: 0.0298 - accuracy: 0.9917 - val_loss: 0.0091 - val_accuracy: 0.9977\n",
      "Epoch 38/50\n",
      "875/875 [==============================] - 5s 5ms/step - loss: 0.0044 - accuracy: 0.9992 - val_loss: 0.0061 - val_accuracy: 0.9987\n",
      "Epoch 39/50\n",
      "875/875 [==============================] - 5s 5ms/step - loss: 0.0326 - accuracy: 0.9900 - val_loss: 0.0095 - val_accuracy: 0.9975\n",
      "Epoch 40/50\n",
      "875/875 [==============================] - 5s 5ms/step - loss: 0.0098 - accuracy: 0.9973 - val_loss: 0.0054 - val_accuracy: 0.9987\n",
      "Epoch 41/50\n",
      "875/875 [==============================] - 4s 5ms/step - loss: 0.0094 - accuracy: 0.9977 - val_loss: 0.1451 - val_accuracy: 0.9561\n",
      "Epoch 42/50\n",
      "875/875 [==============================] - 4s 5ms/step - loss: 0.0261 - accuracy: 0.9924 - val_loss: 0.0047 - val_accuracy: 0.9991\n",
      "Epoch 43/50\n",
      "875/875 [==============================] - 4s 5ms/step - loss: 0.0221 - accuracy: 0.9938 - val_loss: 0.0265 - val_accuracy: 0.9906\n",
      "Epoch 44/50\n",
      "875/875 [==============================] - 4s 5ms/step - loss: 0.0111 - accuracy: 0.9969 - val_loss: 0.0041 - val_accuracy: 0.9993\n",
      "Epoch 45/50\n",
      "875/875 [==============================] - 5s 5ms/step - loss: 0.0212 - accuracy: 0.9943 - val_loss: 0.0067 - val_accuracy: 0.9986\n",
      "Epoch 46/50\n",
      "875/875 [==============================] - 4s 5ms/step - loss: 0.0034 - accuracy: 0.9994 - val_loss: 0.0034 - val_accuracy: 0.9992\n",
      "Epoch 47/50\n",
      "875/875 [==============================] - 4s 5ms/step - loss: 0.0282 - accuracy: 0.9919 - val_loss: 0.0416 - val_accuracy: 0.9866\n",
      "Epoch 48/50\n",
      "875/875 [==============================] - 4s 5ms/step - loss: 0.0078 - accuracy: 0.9983 - val_loss: 0.0035 - val_accuracy: 0.9992\n",
      "Epoch 49/50\n",
      "875/875 [==============================] - 4s 5ms/step - loss: 0.0013 - accuracy: 1.0000 - val_loss: 0.0060 - val_accuracy: 0.9979\n",
      "Epoch 50/50\n",
      "875/875 [==============================] - 5s 5ms/step - loss: 0.0362 - accuracy: 0.9898 - val_loss: 0.0038 - val_accuracy: 0.9995\n"
     ]
    }
   ],
   "source": [
    "history_reversed = model_reversed.fit(X_train_rev, Y_train_rev, validation_data=(X_val_rev, Y_val_rev),\n",
    "    epochs=50,\n",
    "    batch_size=16\n",
    ")"
   ]
  },
  {
   "cell_type": "code",
   "execution_count": 62,
   "id": "2ec2b6f8-9e85-42ad-9914-d58f6e6d127f",
   "metadata": {},
   "outputs": [
    {
     "name": "stdout",
     "output_type": "stream",
     "text": [
      "94/94 [==============================] - 0s 2ms/step - loss: 19.8451 - accuracy: 0.1267\n"
     ]
    }
   ],
   "source": [
    "rev_eval_result = model.evaluate(X_test_rev,Y_test_rev)"
   ]
  },
  {
   "cell_type": "code",
   "execution_count": 63,
   "id": "c4cf2212-3beb-4887-828b-f40919fa3c50",
   "metadata": {},
   "outputs": [
    {
     "data": {
      "image/png": "[encoded data removed]",
      "text/plain": [
       "<Figure size 640x480 with 1 Axes>"
      ]
     },
     "metadata": {},
     "output_type": "display_data"
    }
   ],
   "source": [
    "import matplotlib.pyplot as plt\n",
    "\n",
    "model_accuracy = history.history['val_accuracy']\n",
    "model_reversed_accuracy = history_reversed.history['val_accuracy']\n",
    "x_len = len(model_accuracy)\n",
    "epochs = range(x_len)\n",
    "\n",
    "plt.plot(epochs, model_accuracy, linestyle = '-',  label = 'normal', marker ='.', linewidth=1)\n",
    "plt.plot(epochs,model_reversed_accuracy, linestyle = '-',  label = 'reversed', marker ='.', linewidth=1)\n",
    "plt.legend(loc=\"best\")\n",
    "plt.xlabel('epochs')\n",
    "plt.ylabel('accuracy')\n",
    "plt.show()"
   ]
  },
  {
   "cell_type": "code",
   "execution_count": null,
   "id": "aeb9f063-b0ed-429d-bf08-257db62763f6",
   "metadata": {},
   "outputs": [],
   "source": []
  }
 ],
 "metadata": {
  "kernelspec": {
   "display_name": "Python 3 (ipykernel)",
   "language": "python",
   "name": "python3"
  },
  "language_info": {
   "codemirror_mode": {
    "name": "ipython",
    "version": 3
   },
   "file_extension": ".py",
   "mimetype": "text/x-python",
   "name": "python",
   "nbconvert_exporter": "python",
   "pygments_lexer": "ipython3",
   "version": "3.11.4"
  }
 },
 "nbformat": 4,
 "nbformat_minor": 5
}
