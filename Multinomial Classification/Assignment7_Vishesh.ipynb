{
 "cells": [
  {
   "cell_type": "code",
   "execution_count": 1,
   "id": "3431b55c-5f12-4424-9dc1-fde8a514bcf3",
   "metadata": {},
   "outputs": [],
   "source": [
    "import tensorflow as tf \n",
    "from tensorflow import keras \n",
    "from keras import layers \n",
    "from sklearn.model_selection import train_test_split\n",
    "from keras.utils import np_utils\n",
    "\n",
    "import numpy as np \n",
    "import matplotlib.pyplot as plt \n"
   ]
  },
  {
   "cell_type": "code",
   "execution_count": 2,
   "id": "49784552-7e98-41ea-af90-1d16d65a9c83",
   "metadata": {},
   "outputs": [
    {
     "name": "stdout",
     "output_type": "stream",
     "text": [
      "(40000, 32, 32, 3) (10000, 32, 32, 3) (40000, 1) (10000, 1)\n"
     ]
    }
   ],
   "source": [
    "#Task(a)\n",
    "\n",
    "cifar_100_python = tf.keras.datasets.cifar100 \n",
    "\n",
    "(X_training, Y_training), (X_test, Y_test) = cifar_100_python.load_data()\n",
    "\n",
    "X_training = X_training.astype('float32')\n",
    "X_test = X_test.astype('float32')\n",
    "X_training = X_training / 255.0\n",
    "X_test = X_test / 255.0 \n",
    "\n",
    "X_train, X_val, Y_train, Y_val = train_test_split(X_training, Y_training, test_size=0.2, random_state=21)\n",
    "\n",
    "print(X_train.shape,X_val.shape,Y_train.shape, Y_val.shape)"
   ]
  },
  {
   "cell_type": "code",
   "execution_count": 3,
   "id": "c81590a2-7f5b-404b-bc86-70cc1c73ff37",
   "metadata": {},
   "outputs": [
    {
     "name": "stdout",
     "output_type": "stream",
     "text": [
      "(40000, 100)\n"
     ]
    }
   ],
   "source": [
    "# Converting the output values to the classes (one-hot encoding)\n",
    "\n",
    "Y_train = np_utils.to_categorical(Y_train,100) \n",
    "Y_val = np_utils.to_categorical(Y_val,100) \n",
    "Y_test = np_utils.to_categorical(Y_test,100) \n",
    "\n",
    "print(Y_train.shape)"
   ]
  },
  {
   "cell_type": "code",
   "execution_count": 4,
   "id": "7fcd9e41-73e5-4a78-99b3-4809df79e7cc",
   "metadata": {},
   "outputs": [],
   "source": [
    "from keras import layers\n",
    "from keras import models\n",
    "from keras import optimizers"
   ]
  },
  {
   "cell_type": "markdown",
   "id": "2400d4e5-442e-4277-9a93-2e3ec3b3cde0",
   "metadata": {},
   "source": [
    "## Model1"
   ]
  },
  {
   "cell_type": "code",
   "execution_count": 6,
   "id": "80a8050a-ff69-4f97-b9f4-569d1aa464e9",
   "metadata": {},
   "outputs": [],
   "source": [
    "model1 = models.Sequential()\n",
    "model1.add(layers.Conv2D(32, (3, 3), activation='relu',padding='same', input_shape=(32, 32, 3)))\n",
    "model1.add(layers.MaxPooling2D((2, 2)))\n",
    "model1.add(layers.Conv2D(32, (3, 3), activation='relu',padding='same'))\n",
    "model1.add(layers.MaxPooling2D((2, 2)))\n",
    "model1.add(layers.Conv2D(64, (3, 3), activation='relu',padding='same'))\n",
    "model1.add(layers.MaxPooling2D((2, 2)))\n",
    "model1.add(layers.Conv2D(64, (3, 3), activation='relu',padding='same'))\n",
    "model1.add(layers.MaxPooling2D((2, 2)))\n",
    "model1.add(layers.Conv2D(128, (3, 3), activation='relu',padding='same'))\n",
    "model1.add(layers.MaxPooling2D((2, 2)))\n",
    "model1.add(layers.Conv2D(128, (3, 3), activation='relu',padding='same'))\n",
    "model1.add(layers.MaxPooling2D((2, 2),padding='same'))\n",
    "model1.add(layers.Flatten())\n",
    "model1.add(layers.Dense(512, activation='relu'))\n",
    "model1.add(layers.Dense(100, activation='softmax'))"
   ]
  },
  {
   "cell_type": "code",
   "execution_count": 7,
   "id": "42371c2d-afd9-4a2d-95b8-165b3e0b9691",
   "metadata": {},
   "outputs": [
    {
     "name": "stdout",
     "output_type": "stream",
     "text": [
      "Model: \"sequential\"\n",
      "_________________________________________________________________\n",
      " Layer (type)                Output Shape              Param #   \n",
      "=================================================================\n",
      " conv2d (Conv2D)             (None, 32, 32, 32)        896       \n",
      "                                                                 \n",
      " max_pooling2d (MaxPooling2D  (None, 16, 16, 32)       0         \n",
      " )                                                               \n",
      "                                                                 \n",
      " conv2d_1 (Conv2D)           (None, 16, 16, 32)        9248      \n",
      "                                                                 \n",
      " max_pooling2d_1 (MaxPooling  (None, 8, 8, 32)         0         \n",
      " 2D)                                                             \n",
      "                                                                 \n",
      " conv2d_2 (Conv2D)           (None, 8, 8, 64)          18496     \n",
      "                                                                 \n",
      " max_pooling2d_2 (MaxPooling  (None, 4, 4, 64)         0         \n",
      " 2D)                                                             \n",
      "                                                                 \n",
      " conv2d_3 (Conv2D)           (None, 4, 4, 64)          36928     \n",
      "                                                                 \n",
      " max_pooling2d_3 (MaxPooling  (None, 2, 2, 64)         0         \n",
      " 2D)                                                             \n",
      "                                                                 \n",
      " conv2d_4 (Conv2D)           (None, 2, 2, 128)         73856     \n",
      "                                                                 \n",
      " max_pooling2d_4 (MaxPooling  (None, 1, 1, 128)        0         \n",
      " 2D)                                                             \n",
      "                                                                 \n",
      " conv2d_5 (Conv2D)           (None, 1, 1, 128)         147584    \n",
      "                                                                 \n",
      " max_pooling2d_5 (MaxPooling  (None, 1, 1, 128)        0         \n",
      " 2D)                                                             \n",
      "                                                                 \n",
      " flatten (Flatten)           (None, 128)               0         \n",
      "                                                                 \n",
      " dense (Dense)               (None, 512)               66048     \n",
      "                                                                 \n",
      " dense_1 (Dense)             (None, 100)               51300     \n",
      "                                                                 \n",
      "=================================================================\n",
      "Total params: 404,356\n",
      "Trainable params: 404,356\n",
      "Non-trainable params: 0\n",
      "_________________________________________________________________\n"
     ]
    }
   ],
   "source": [
    "model1.summary()"
   ]
  },
  {
   "cell_type": "code",
   "execution_count": 120,
   "id": "6a6d1185-3a56-4fe0-9a33-7347266a74f2",
   "metadata": {},
   "outputs": [
    {
     "name": "stdout",
     "output_type": "stream",
     "text": [
      "Epoch 1/16\n",
      "313/313 [==============================] - 22s 69ms/step - loss: 4.3238 - acc: 0.0291 - val_loss: 4.0811 - val_acc: 0.0476\n",
      "Epoch 2/16\n",
      "313/313 [==============================] - 20s 65ms/step - loss: 3.9251 - acc: 0.0734 - val_loss: 3.7853 - val_acc: 0.0913\n",
      "Epoch 3/16\n",
      "313/313 [==============================] - 20s 64ms/step - loss: 3.6719 - acc: 0.1103 - val_loss: 3.6415 - val_acc: 0.1155\n",
      "Epoch 4/16\n",
      "313/313 [==============================] - 20s 64ms/step - loss: 3.4716 - acc: 0.1432 - val_loss: 3.4109 - val_acc: 0.1643\n",
      "Epoch 5/16\n",
      "313/313 [==============================] - 20s 65ms/step - loss: 3.2841 - acc: 0.1785 - val_loss: 3.2606 - val_acc: 0.1945\n",
      "Epoch 6/16\n",
      "313/313 [==============================] - 20s 65ms/step - loss: 3.0675 - acc: 0.2223 - val_loss: 3.0817 - val_acc: 0.2309\n",
      "Epoch 7/16\n",
      "313/313 [==============================] - 22s 71ms/step - loss: 2.8856 - acc: 0.2620 - val_loss: 2.9755 - val_acc: 0.2583\n",
      "Epoch 8/16\n",
      "313/313 [==============================] - 22s 69ms/step - loss: 2.7555 - acc: 0.2842 - val_loss: 2.8690 - val_acc: 0.2812\n",
      "Epoch 9/16\n",
      "313/313 [==============================] - 24s 77ms/step - loss: 2.6231 - acc: 0.3130 - val_loss: 2.7904 - val_acc: 0.2960\n",
      "Epoch 10/16\n",
      "313/313 [==============================] - 27s 87ms/step - loss: 2.4998 - acc: 0.3386 - val_loss: 2.7442 - val_acc: 0.3051\n",
      "Epoch 11/16\n",
      "313/313 [==============================] - 26s 84ms/step - loss: 2.4045 - acc: 0.3590 - val_loss: 2.7073 - val_acc: 0.3150\n",
      "Epoch 12/16\n",
      "313/313 [==============================] - 25s 81ms/step - loss: 2.3117 - acc: 0.3813 - val_loss: 2.6868 - val_acc: 0.3202\n",
      "Epoch 13/16\n",
      "313/313 [==============================] - 25s 79ms/step - loss: 2.2189 - acc: 0.3967 - val_loss: 2.6859 - val_acc: 0.3257\n",
      "Epoch 14/16\n",
      "313/313 [==============================] - 24s 78ms/step - loss: 2.1389 - acc: 0.4174 - val_loss: 2.6486 - val_acc: 0.3331\n",
      "Epoch 15/16\n",
      "313/313 [==============================] - 26s 82ms/step - loss: 2.0479 - acc: 0.4360 - val_loss: 2.6542 - val_acc: 0.3378\n",
      "Epoch 16/16\n",
      "313/313 [==============================] - 27s 86ms/step - loss: 1.9773 - acc: 0.4535 - val_loss: 2.6493 - val_acc: 0.3410\n"
     ]
    }
   ],
   "source": [
    "model1.compile(loss='categorical_crossentropy',\n",
    "              optimizer='adam',\n",
    "              metrics=['acc'])\n",
    "\n",
    "history = model1.fit(X_train, Y_train, epochs=16, batch_size = 128, validation_data=(X_val, Y_val), verbose = 1)"
   ]
  },
  {
   "cell_type": "markdown",
   "id": "bf3048f8-725f-4a5a-8d37-c0ceb5be1a5e",
   "metadata": {},
   "source": [
    "## Model 2"
   ]
  },
  {
   "cell_type": "code",
   "execution_count": 121,
   "id": "ab81a1c4-d663-4adb-a34b-8bc7b9155015",
   "metadata": {},
   "outputs": [],
   "source": [
    "model2 = models.Sequential()\n",
    "model2.add(layers.Conv2D(64, (3, 3), activation='relu',padding='same', input_shape=(32, 32, 3)))\n",
    "model2.add(layers.MaxPooling2D((2, 2)))\n",
    "model2.add(layers.Conv2D(64, (3, 3), activation='relu',padding='same'))\n",
    "model2.add(layers.Dropout(0.2))\n",
    "model2.add(layers.MaxPooling2D((2, 2)))\n",
    "model2.add(layers.Conv2D(128, (3, 3), activation='relu',padding='same'))\n",
    "model2.add(layers.MaxPooling2D((2, 2)))\n",
    "model2.add(layers.Conv2D(128, (3, 3), activation='relu',padding='same'))\n",
    "model2.add(layers.Dropout(0.2))\n",
    "model2.add(layers.MaxPooling2D((2, 2)))\n",
    "model2.add(layers.Conv2D(264, (3, 3), activation='relu',padding='same'))\n",
    "model2.add(layers.MaxPooling2D((2, 2)))\n",
    "model2.add(layers.Conv2D(264, (3, 3), activation='relu',padding='same'))\n",
    "model2.add(layers.Dropout(0.2))\n",
    "model2.add(layers.MaxPooling2D((2, 2),padding='same'))\n",
    "model2.add(layers.Flatten())\n",
    "model2.add(layers.Dense(512, activation='relu'))\n",
    "model2.add(layers.Dropout(0.2))\n",
    "model2.add(layers.Dense(1024, activation='relu'))\n",
    "model2.add(layers.Dense(100, activation='softmax'))"
   ]
  },
  {
   "cell_type": "code",
   "execution_count": 122,
   "id": "907d1b01-583b-431a-bd44-48ab135fcb9d",
   "metadata": {},
   "outputs": [
    {
     "name": "stdout",
     "output_type": "stream",
     "text": [
      "Model: \"sequential_27\"\n",
      "_________________________________________________________________\n",
      " Layer (type)                Output Shape              Param #   \n",
      "=================================================================\n",
      " conv2d_125 (Conv2D)         (None, 32, 32, 64)        1792      \n",
      "                                                                 \n",
      " max_pooling2d_105 (MaxPooli  (None, 16, 16, 64)       0         \n",
      " ng2D)                                                           \n",
      "                                                                 \n",
      " conv2d_126 (Conv2D)         (None, 16, 16, 64)        36928     \n",
      "                                                                 \n",
      " dropout_28 (Dropout)        (None, 16, 16, 64)        0         \n",
      "                                                                 \n",
      " max_pooling2d_106 (MaxPooli  (None, 8, 8, 64)         0         \n",
      " ng2D)                                                           \n",
      "                                                                 \n",
      " conv2d_127 (Conv2D)         (None, 8, 8, 128)         73856     \n",
      "                                                                 \n",
      " max_pooling2d_107 (MaxPooli  (None, 4, 4, 128)        0         \n",
      " ng2D)                                                           \n",
      "                                                                 \n",
      " conv2d_128 (Conv2D)         (None, 4, 4, 128)         147584    \n",
      "                                                                 \n",
      " dropout_29 (Dropout)        (None, 4, 4, 128)         0         \n",
      "                                                                 \n",
      " max_pooling2d_108 (MaxPooli  (None, 2, 2, 128)        0         \n",
      " ng2D)                                                           \n",
      "                                                                 \n",
      " conv2d_129 (Conv2D)         (None, 2, 2, 264)         304392    \n",
      "                                                                 \n",
      " max_pooling2d_109 (MaxPooli  (None, 1, 1, 264)        0         \n",
      " ng2D)                                                           \n",
      "                                                                 \n",
      " conv2d_130 (Conv2D)         (None, 1, 1, 264)         627528    \n",
      "                                                                 \n",
      " dropout_30 (Dropout)        (None, 1, 1, 264)         0         \n",
      "                                                                 \n",
      " max_pooling2d_110 (MaxPooli  (None, 1, 1, 264)        0         \n",
      " ng2D)                                                           \n",
      "                                                                 \n",
      " flatten_17 (Flatten)        (None, 264)               0         \n",
      "                                                                 \n",
      " dense_41 (Dense)            (None, 512)               135680    \n",
      "                                                                 \n",
      " dropout_31 (Dropout)        (None, 512)               0         \n",
      "                                                                 \n",
      " dense_42 (Dense)            (None, 1024)              525312    \n",
      "                                                                 \n",
      " dense_43 (Dense)            (None, 100)               102500    \n",
      "                                                                 \n",
      "=================================================================\n",
      "Total params: 1,955,572\n",
      "Trainable params: 1,955,572\n",
      "Non-trainable params: 0\n",
      "_________________________________________________________________\n"
     ]
    }
   ],
   "source": [
    "model2.summary()"
   ]
  },
  {
   "cell_type": "code",
   "execution_count": 123,
   "id": "ebf56404-a3ec-4995-b7c0-4e96536bfd69",
   "metadata": {},
   "outputs": [
    {
     "name": "stdout",
     "output_type": "stream",
     "text": [
      "Epoch 1/16\n",
      "313/313 [==============================] - 72s 230ms/step - loss: 4.3734 - acc: 0.0234 - val_loss: 4.2368 - val_acc: 0.0384\n",
      "Epoch 2/16\n",
      "313/313 [==============================] - 74s 238ms/step - loss: 4.0384 - acc: 0.0529 - val_loss: 3.9505 - val_acc: 0.0788\n",
      "Epoch 3/16\n",
      "313/313 [==============================] - 78s 249ms/step - loss: 3.7473 - acc: 0.0960 - val_loss: 3.7329 - val_acc: 0.1137\n",
      "Epoch 4/16\n",
      "313/313 [==============================] - 56s 178ms/step - loss: 3.5158 - acc: 0.1385 - val_loss: 3.4253 - val_acc: 0.1569\n",
      "Epoch 5/16\n",
      "313/313 [==============================] - 41s 130ms/step - loss: 3.3384 - acc: 0.1714 - val_loss: 3.3044 - val_acc: 0.1828\n",
      "Epoch 6/16\n",
      "313/313 [==============================] - 42s 136ms/step - loss: 3.1805 - acc: 0.2007 - val_loss: 3.2006 - val_acc: 0.2057\n",
      "Epoch 7/16\n",
      "313/313 [==============================] - 43s 139ms/step - loss: 3.0374 - acc: 0.2313 - val_loss: 3.1458 - val_acc: 0.2243\n",
      "Epoch 8/16\n",
      "313/313 [==============================] - 43s 138ms/step - loss: 2.9122 - acc: 0.2558 - val_loss: 3.0199 - val_acc: 0.2496\n",
      "Epoch 9/16\n",
      "313/313 [==============================] - 43s 137ms/step - loss: 2.8024 - acc: 0.2768 - val_loss: 2.9163 - val_acc: 0.2722\n",
      "Epoch 10/16\n",
      "313/313 [==============================] - 44s 142ms/step - loss: 2.6977 - acc: 0.2995 - val_loss: 2.8779 - val_acc: 0.2803\n",
      "Epoch 11/16\n",
      "313/313 [==============================] - 45s 142ms/step - loss: 2.6147 - acc: 0.3154 - val_loss: 2.8360 - val_acc: 0.2883\n",
      "Epoch 12/16\n",
      "313/313 [==============================] - 44s 139ms/step - loss: 2.5166 - acc: 0.3370 - val_loss: 2.8550 - val_acc: 0.2895\n",
      "Epoch 13/16\n",
      "313/313 [==============================] - 40s 128ms/step - loss: 2.4385 - acc: 0.3544 - val_loss: 2.8002 - val_acc: 0.3017\n",
      "Epoch 14/16\n",
      "313/313 [==============================] - 42s 133ms/step - loss: 2.3547 - acc: 0.3731 - val_loss: 2.7016 - val_acc: 0.3214\n",
      "Epoch 15/16\n",
      "313/313 [==============================] - 43s 137ms/step - loss: 2.2951 - acc: 0.3813 - val_loss: 2.6835 - val_acc: 0.3274\n",
      "Epoch 16/16\n",
      "313/313 [==============================] - 42s 136ms/step - loss: 2.2214 - acc: 0.4000 - val_loss: 2.6356 - val_acc: 0.3315\n"
     ]
    }
   ],
   "source": [
    "model2.compile(loss='categorical_crossentropy',\n",
    "              optimizer='adam',\n",
    "              metrics=['acc'])\n",
    "\n",
    "history = model2.fit(X_train, Y_train, epochs=16, batch_size = 128, validation_data=(X_val, Y_val), verbose = 1)"
   ]
  },
  {
   "cell_type": "markdown",
   "id": "1e6b40ed-9d1a-484e-96d3-0c1ff6a0afa0",
   "metadata": {},
   "source": [
    "## Model3"
   ]
  },
  {
   "cell_type": "code",
   "execution_count": 124,
   "id": "850cec6c-32d6-4a70-972f-18c100661911",
   "metadata": {},
   "outputs": [],
   "source": [
    "model3 = models.Sequential()\n",
    "model3.add(layers.Conv2D(32, (3, 3), activation='relu',padding='same', input_shape=(32, 32, 3)))\n",
    "model3.add(layers.BatchNormalization())\n",
    "model3.add(layers.Dropout(0.2))\n",
    "model3.add(layers.MaxPooling2D((2, 2)))\n",
    "model3.add(layers.Conv2D(32, (3, 3), activation='relu',padding='same'))\n",
    "model3.add(layers.BatchNormalization())\n",
    "model3.add(layers.Dropout(0.2))\n",
    "model3.add(layers.MaxPooling2D((2, 2)))\n",
    "model3.add(layers.Conv2D(64, (3, 3), activation='relu',padding='same'))\n",
    "model3.add(layers.BatchNormalization())\n",
    "model3.add(layers.Dropout(0.2))\n",
    "model3.add(layers.MaxPooling2D((2, 2)))\n",
    "model3.add(layers.Conv2D(64, (3, 3), activation='relu',padding='same'))\n",
    "model3.add(layers.BatchNormalization())\n",
    "model3.add(layers.Dropout(0.2))\n",
    "model3.add(layers.MaxPooling2D((2, 2)))\n",
    "model3.add(layers.Conv2D(128, (3, 3), activation='relu',padding='same'))\n",
    "model3.add(layers.BatchNormalization())\n",
    "model3.add(layers.Dropout(0.2))\n",
    "model3.add(layers.MaxPooling2D((2, 2)))\n",
    "model3.add(layers.Conv2D(128, (3, 3), activation='relu',padding='same'))\n",
    "model3.add(layers.BatchNormalization())\n",
    "model3.add(layers.Dropout(0.2))\n",
    "model3.add(layers.MaxPooling2D((2, 2),padding='same'))\n",
    "model3.add(layers.Flatten())\n",
    "model3.add(layers.Dense(512, activation='relu'))\n",
    "model3.add(layers.BatchNormalization())\n",
    "model3.add(layers.Dropout(0.2))\n",
    "model3.add(layers.Dense(1024, activation='relu'))\n",
    "model3.add(layers.Dense(100, activation='softmax'))"
   ]
  },
  {
   "cell_type": "code",
   "execution_count": 125,
   "id": "6df99bb7-fc4e-48ce-babd-c606868b62e2",
   "metadata": {},
   "outputs": [
    {
     "name": "stdout",
     "output_type": "stream",
     "text": [
      "Model: \"sequential_28\"\n",
      "_________________________________________________________________\n",
      " Layer (type)                Output Shape              Param #   \n",
      "=================================================================\n",
      " conv2d_131 (Conv2D)         (None, 32, 32, 32)        896       \n",
      "                                                                 \n",
      " batch_normalization_41 (Bat  (None, 32, 32, 32)       128       \n",
      " chNormalization)                                                \n",
      "                                                                 \n",
      " dropout_32 (Dropout)        (None, 32, 32, 32)        0         \n",
      "                                                                 \n",
      " max_pooling2d_111 (MaxPooli  (None, 16, 16, 32)       0         \n",
      " ng2D)                                                           \n",
      "                                                                 \n",
      " conv2d_132 (Conv2D)         (None, 16, 16, 32)        9248      \n",
      "                                                                 \n",
      " batch_normalization_42 (Bat  (None, 16, 16, 32)       128       \n",
      " chNormalization)                                                \n",
      "                                                                 \n",
      " dropout_33 (Dropout)        (None, 16, 16, 32)        0         \n",
      "                                                                 \n",
      " max_pooling2d_112 (MaxPooli  (None, 8, 8, 32)         0         \n",
      " ng2D)                                                           \n",
      "                                                                 \n",
      " conv2d_133 (Conv2D)         (None, 8, 8, 64)          18496     \n",
      "                                                                 \n",
      " batch_normalization_43 (Bat  (None, 8, 8, 64)         256       \n",
      " chNormalization)                                                \n",
      "                                                                 \n",
      " dropout_34 (Dropout)        (None, 8, 8, 64)          0         \n",
      "                                                                 \n",
      " max_pooling2d_113 (MaxPooli  (None, 4, 4, 64)         0         \n",
      " ng2D)                                                           \n",
      "                                                                 \n",
      " conv2d_134 (Conv2D)         (None, 4, 4, 64)          36928     \n",
      "                                                                 \n",
      " batch_normalization_44 (Bat  (None, 4, 4, 64)         256       \n",
      " chNormalization)                                                \n",
      "                                                                 \n",
      " dropout_35 (Dropout)        (None, 4, 4, 64)          0         \n",
      "                                                                 \n",
      " max_pooling2d_114 (MaxPooli  (None, 2, 2, 64)         0         \n",
      " ng2D)                                                           \n",
      "                                                                 \n",
      " conv2d_135 (Conv2D)         (None, 2, 2, 128)         73856     \n",
      "                                                                 \n",
      " batch_normalization_45 (Bat  (None, 2, 2, 128)        512       \n",
      " chNormalization)                                                \n",
      "                                                                 \n",
      " dropout_36 (Dropout)        (None, 2, 2, 128)         0         \n",
      "                                                                 \n",
      " max_pooling2d_115 (MaxPooli  (None, 1, 1, 128)        0         \n",
      " ng2D)                                                           \n",
      "                                                                 \n",
      " conv2d_136 (Conv2D)         (None, 1, 1, 128)         147584    \n",
      "                                                                 \n",
      " batch_normalization_46 (Bat  (None, 1, 1, 128)        512       \n",
      " chNormalization)                                                \n",
      "                                                                 \n",
      " dropout_37 (Dropout)        (None, 1, 1, 128)         0         \n",
      "                                                                 \n",
      " max_pooling2d_116 (MaxPooli  (None, 1, 1, 128)        0         \n",
      " ng2D)                                                           \n",
      "                                                                 \n",
      " flatten_18 (Flatten)        (None, 128)               0         \n",
      "                                                                 \n",
      " dense_44 (Dense)            (None, 512)               66048     \n",
      "                                                                 \n",
      " batch_normalization_47 (Bat  (None, 512)              2048      \n",
      " chNormalization)                                                \n",
      "                                                                 \n",
      " dropout_38 (Dropout)        (None, 512)               0         \n",
      "                                                                 \n",
      " dense_45 (Dense)            (None, 1024)              525312    \n",
      "                                                                 \n",
      " dense_46 (Dense)            (None, 100)               102500    \n",
      "                                                                 \n",
      "=================================================================\n",
      "Total params: 984,708\n",
      "Trainable params: 982,788\n",
      "Non-trainable params: 1,920\n",
      "_________________________________________________________________\n"
     ]
    }
   ],
   "source": [
    "model3.summary()"
   ]
  },
  {
   "cell_type": "code",
   "execution_count": 126,
   "id": "c8b849f8-1beb-43eb-88df-67ef45a1f6f8",
   "metadata": {},
   "outputs": [
    {
     "name": "stdout",
     "output_type": "stream",
     "text": [
      "Epoch 1/16\n",
      "313/313 [==============================] - 26s 82ms/step - loss: 4.1124 - acc: 0.0816 - val_loss: 5.0413 - val_acc: 0.0236\n",
      "Epoch 2/16\n",
      "313/313 [==============================] - 24s 78ms/step - loss: 3.5569 - acc: 0.1504 - val_loss: 3.7268 - val_acc: 0.1328\n",
      "Epoch 3/16\n",
      "313/313 [==============================] - 23s 73ms/step - loss: 3.2748 - acc: 0.1955 - val_loss: 3.2274 - val_acc: 0.2074\n",
      "Epoch 4/16\n",
      "313/313 [==============================] - 26s 84ms/step - loss: 3.0789 - acc: 0.2315 - val_loss: 3.0770 - val_acc: 0.2407\n",
      "Epoch 5/16\n",
      "313/313 [==============================] - 25s 81ms/step - loss: 2.9054 - acc: 0.2598 - val_loss: 3.2824 - val_acc: 0.2072\n",
      "Epoch 6/16\n",
      "313/313 [==============================] - 26s 84ms/step - loss: 2.7575 - acc: 0.2895 - val_loss: 3.2236 - val_acc: 0.2238\n",
      "Epoch 7/16\n",
      "313/313 [==============================] - 22s 69ms/step - loss: 2.6588 - acc: 0.3069 - val_loss: 3.0109 - val_acc: 0.2531\n",
      "Epoch 8/16\n",
      "313/313 [==============================] - 21s 68ms/step - loss: 2.5583 - acc: 0.3291 - val_loss: 2.9622 - val_acc: 0.2644\n",
      "Epoch 9/16\n",
      "313/313 [==============================] - 23s 72ms/step - loss: 2.4857 - acc: 0.3445 - val_loss: 2.8171 - val_acc: 0.2952\n",
      "Epoch 10/16\n",
      "313/313 [==============================] - 23s 75ms/step - loss: 2.3995 - acc: 0.3578 - val_loss: 2.8806 - val_acc: 0.2896\n",
      "Epoch 11/16\n",
      "313/313 [==============================] - 24s 78ms/step - loss: 2.3450 - acc: 0.3719 - val_loss: 2.7922 - val_acc: 0.2959\n",
      "Epoch 12/16\n",
      "313/313 [==============================] - 24s 75ms/step - loss: 2.2902 - acc: 0.3845 - val_loss: 3.0032 - val_acc: 0.2677\n",
      "Epoch 13/16\n",
      "313/313 [==============================] - 24s 77ms/step - loss: 2.2386 - acc: 0.3912 - val_loss: 2.9809 - val_acc: 0.2812\n",
      "Epoch 14/16\n",
      "313/313 [==============================] - 26s 82ms/step - loss: 2.1854 - acc: 0.4052 - val_loss: 2.7568 - val_acc: 0.3163\n",
      "Epoch 15/16\n",
      "313/313 [==============================] - 25s 79ms/step - loss: 2.1346 - acc: 0.4127 - val_loss: 2.7149 - val_acc: 0.3159\n",
      "Epoch 16/16\n",
      "313/313 [==============================] - 25s 80ms/step - loss: 2.0938 - acc: 0.4216 - val_loss: 3.0131 - val_acc: 0.2750\n"
     ]
    }
   ],
   "source": [
    "model3.compile(loss='categorical_crossentropy',\n",
    "              optimizer='adam',\n",
    "              metrics=['acc'])\n",
    "\n",
    "history = model3.fit(X_train, Y_train, epochs=16, batch_size = 128, validation_data=(X_val, Y_val), verbose = 1)"
   ]
  },
  {
   "cell_type": "markdown",
   "id": "2fd96333-eafe-498c-9174-ab1b43a31ce4",
   "metadata": {},
   "source": [
    "## Model4"
   ]
  },
  {
   "cell_type": "code",
   "execution_count": 127,
   "id": "67ba377a-7391-4dd5-8801-3142f40a0043",
   "metadata": {},
   "outputs": [],
   "source": [
    "model4 = models.Sequential()\n",
    "model4.add(layers.Conv2D(16, (3, 3), activation='relu',padding='same', input_shape=(32, 32, 3)))\n",
    "model4.add(layers.BatchNormalization())\n",
    "model4.add(layers.Conv2D(32, (3, 3), activation='relu',padding='same'))\n",
    "model4.add(layers.Conv2D(64, (3, 3), activation='relu',padding='same'))\n",
    "model4.add(layers.MaxPooling2D((2, 2)))\n",
    "model4.add(layers.Conv2D(64, (3, 3), activation='relu',padding='same'))\n",
    "model4.add(layers.Conv2D(128, (3, 3), activation='relu',padding='same'))\n",
    "model4.add(layers.Flatten())\n",
    "model4.add(layers.Dense(256, activation='relu'))\n",
    "model4.add(layers.BatchNormalization())\n",
    "model4.add(layers.Dense(512, activation='relu'))\n",
    "model4.add(layers.Dropout(0.2))\n",
    "model4.add(layers.BatchNormalization())\n",
    "model4.add(layers.Dense(100, activation='softmax'))"
   ]
  },
  {
   "cell_type": "code",
   "execution_count": 128,
   "id": "1c86f3bd-694a-4ba8-aa20-162627b1168d",
   "metadata": {},
   "outputs": [
    {
     "name": "stdout",
     "output_type": "stream",
     "text": [
      "Model: \"sequential_29\"\n",
      "_________________________________________________________________\n",
      " Layer (type)                Output Shape              Param #   \n",
      "=================================================================\n",
      " conv2d_137 (Conv2D)         (None, 32, 32, 16)        448       \n",
      "                                                                 \n",
      " batch_normalization_48 (Bat  (None, 32, 32, 16)       64        \n",
      " chNormalization)                                                \n",
      "                                                                 \n",
      " conv2d_138 (Conv2D)         (None, 32, 32, 32)        4640      \n",
      "                                                                 \n",
      " conv2d_139 (Conv2D)         (None, 32, 32, 64)        18496     \n",
      "                                                                 \n",
      " max_pooling2d_117 (MaxPooli  (None, 16, 16, 64)       0         \n",
      " ng2D)                                                           \n",
      "                                                                 \n",
      " conv2d_140 (Conv2D)         (None, 16, 16, 64)        36928     \n",
      "                                                                 \n",
      " conv2d_141 (Conv2D)         (None, 16, 16, 128)       73856     \n",
      "                                                                 \n",
      " flatten_19 (Flatten)        (None, 32768)             0         \n",
      "                                                                 \n",
      " dense_47 (Dense)            (None, 256)               8388864   \n",
      "                                                                 \n",
      " batch_normalization_49 (Bat  (None, 256)              1024      \n",
      " chNormalization)                                                \n",
      "                                                                 \n",
      " dense_48 (Dense)            (None, 512)               131584    \n",
      "                                                                 \n",
      " dropout_39 (Dropout)        (None, 512)               0         \n",
      "                                                                 \n",
      " batch_normalization_50 (Bat  (None, 512)              2048      \n",
      " chNormalization)                                                \n",
      "                                                                 \n",
      " dense_49 (Dense)            (None, 100)               51300     \n",
      "                                                                 \n",
      "=================================================================\n",
      "Total params: 8,709,252\n",
      "Trainable params: 8,707,684\n",
      "Non-trainable params: 1,568\n",
      "_________________________________________________________________\n"
     ]
    }
   ],
   "source": [
    "model4.summary()"
   ]
  },
  {
   "cell_type": "code",
   "execution_count": 129,
   "id": "e5af965a-ffce-41ca-a372-cba48cd65934",
   "metadata": {},
   "outputs": [
    {
     "name": "stdout",
     "output_type": "stream",
     "text": [
      "Epoch 1/16\n",
      "313/313 [==============================] - 100s 317ms/step - loss: 3.5776 - acc: 0.1731 - val_loss: 6.0841 - val_acc: 0.0428\n",
      "Epoch 2/16\n",
      "313/313 [==============================] - 93s 297ms/step - loss: 2.6057 - acc: 0.3365 - val_loss: 3.2001 - val_acc: 0.2642\n",
      "Epoch 3/16\n",
      "313/313 [==============================] - 88s 282ms/step - loss: 2.1213 - acc: 0.4408 - val_loss: 2.8756 - val_acc: 0.3206\n",
      "Epoch 4/16\n",
      "313/313 [==============================] - 90s 289ms/step - loss: 1.6891 - acc: 0.5379 - val_loss: 2.6943 - val_acc: 0.3632\n",
      "Epoch 5/16\n",
      "313/313 [==============================] - 86s 276ms/step - loss: 1.1599 - acc: 0.6759 - val_loss: 2.5466 - val_acc: 0.3869\n",
      "Epoch 6/16\n",
      "313/313 [==============================] - 88s 280ms/step - loss: 0.5508 - acc: 0.8483 - val_loss: 2.7974 - val_acc: 0.3718\n",
      "Epoch 7/16\n",
      "313/313 [==============================] - 89s 281ms/step - loss: 0.2119 - acc: 0.9480 - val_loss: 3.0044 - val_acc: 0.3905\n",
      "Epoch 8/16\n",
      "313/313 [==============================] - 85s 271ms/step - loss: 0.0864 - acc: 0.9828 - val_loss: 3.0653 - val_acc: 0.4108\n",
      "Epoch 9/16\n",
      "313/313 [==============================] - 91s 291ms/step - loss: 0.0474 - acc: 0.9913 - val_loss: 3.2950 - val_acc: 0.3982\n",
      "Epoch 10/16\n",
      "313/313 [==============================] - 92s 293ms/step - loss: 0.0360 - acc: 0.9936 - val_loss: 3.3769 - val_acc: 0.3916\n",
      "Epoch 11/16\n",
      "313/313 [==============================] - 90s 287ms/step - loss: 0.0459 - acc: 0.9897 - val_loss: 3.8018 - val_acc: 0.3545\n",
      "Epoch 12/16\n",
      "313/313 [==============================] - 92s 294ms/step - loss: 0.1841 - acc: 0.9452 - val_loss: 4.3722 - val_acc: 0.3202\n",
      "Epoch 13/16\n",
      "313/313 [==============================] - 95s 302ms/step - loss: 0.2893 - acc: 0.9086 - val_loss: 4.1712 - val_acc: 0.3443\n",
      "Epoch 14/16\n",
      "313/313 [==============================] - 88s 281ms/step - loss: 0.1240 - acc: 0.9611 - val_loss: 4.5806 - val_acc: 0.3530\n",
      "Epoch 15/16\n",
      "313/313 [==============================] - 84s 268ms/step - loss: 0.0516 - acc: 0.9855 - val_loss: 4.0210 - val_acc: 0.3827\n",
      "Epoch 16/16\n",
      "313/313 [==============================] - 83s 266ms/step - loss: 0.0286 - acc: 0.9929 - val_loss: 4.2382 - val_acc: 0.3732\n"
     ]
    }
   ],
   "source": [
    "model4.compile(loss='categorical_crossentropy',\n",
    "              optimizer='adam',\n",
    "              metrics=['acc'])\n",
    "\n",
    "history = model4.fit(X_train, Y_train, epochs=16, batch_size = 128, validation_data=(X_val, Y_val), verbose = 1)"
   ]
  },
  {
   "cell_type": "markdown",
   "id": "7e364681-0809-4837-92b9-e4181e5e8460",
   "metadata": {},
   "source": [
    "## Model 5"
   ]
  },
  {
   "cell_type": "code",
   "execution_count": 16,
   "id": "b312bedb-828a-49ef-90c9-11e08a1f3a52",
   "metadata": {},
   "outputs": [],
   "source": [
    "model5 = models.Sequential()\n",
    "model5.add(layers.Conv2D(32, (3, 3), activation = 'elu', padding = 'same', input_shape = (32, 32, 3)))\n",
    "model5.add(layers.BatchNormalization())\n",
    "model5.add(layers.Dropout(0.2))\n",
    "model5.add(layers.Conv2D(32, (3, 3), activation = 'elu', padding = 'same'))\n",
    "model5.add(layers.BatchNormalization())\n",
    "model5.add(layers.MaxPooling2D(2, 2))\n",
    "model5.add(layers.Conv2D(64, (3, 3), activation = 'elu', padding = 'same'))\n",
    "model5.add(layers.BatchNormalization())\n",
    "model5.add(layers.Dropout(0.2))\n",
    "model5.add(layers.Conv2D(64, (3, 3), activation = 'elu', padding = 'same'))\n",
    "model5.add(layers.BatchNormalization())\n",
    "model5.add(layers.MaxPooling2D(2, 2))\n",
    "model5.add(layers.Conv2D(128, (3, 3), activation = 'elu', padding = 'same'))\n",
    "model5.add(layers.BatchNormalization())\n",
    "model5.add(layers.Dropout(0.2))\n",
    "model5.add(layers.Conv2D(128, (3, 3), activation = 'elu', padding = 'same'))\n",
    "model5.add(layers.BatchNormalization())\n",
    "model5.add(layers.MaxPooling2D(2, 2))\n",
    "model5.add(layers.Flatten())\n",
    "model5.add(layers.Dense(256, activation = 'relu'))\n",
    "model5.add(layers.BatchNormalization())\n",
    "model5.add(layers.Dropout(0.2))\n",
    "model5.add(layers.Dense(100, activation = 'softmax'))"
   ]
  },
  {
   "cell_type": "code",
   "execution_count": 17,
   "id": "84ff24da-3239-4039-859e-0c6dd0404684",
   "metadata": {},
   "outputs": [
    {
     "name": "stdout",
     "output_type": "stream",
     "text": [
      "Model: \"sequential_2\"\n",
      "_________________________________________________________________\n",
      " Layer (type)                Output Shape              Param #   \n",
      "=================================================================\n",
      " conv2d_12 (Conv2D)          (None, 32, 32, 32)        896       \n",
      "                                                                 \n",
      " batch_normalization_7 (Batc  (None, 32, 32, 32)       128       \n",
      " hNormalization)                                                 \n",
      "                                                                 \n",
      " dropout_4 (Dropout)         (None, 32, 32, 32)        0         \n",
      "                                                                 \n",
      " conv2d_13 (Conv2D)          (None, 32, 32, 32)        9248      \n",
      "                                                                 \n",
      " batch_normalization_8 (Batc  (None, 32, 32, 32)       128       \n",
      " hNormalization)                                                 \n",
      "                                                                 \n",
      " max_pooling2d_9 (MaxPooling  (None, 16, 16, 32)       0         \n",
      " 2D)                                                             \n",
      "                                                                 \n",
      " conv2d_14 (Conv2D)          (None, 16, 16, 64)        18496     \n",
      "                                                                 \n",
      " batch_normalization_9 (Batc  (None, 16, 16, 64)       256       \n",
      " hNormalization)                                                 \n",
      "                                                                 \n",
      " dropout_5 (Dropout)         (None, 16, 16, 64)        0         \n",
      "                                                                 \n",
      " conv2d_15 (Conv2D)          (None, 16, 16, 64)        36928     \n",
      "                                                                 \n",
      " batch_normalization_10 (Bat  (None, 16, 16, 64)       256       \n",
      " chNormalization)                                                \n",
      "                                                                 \n",
      " max_pooling2d_10 (MaxPoolin  (None, 8, 8, 64)         0         \n",
      " g2D)                                                            \n",
      "                                                                 \n",
      " conv2d_16 (Conv2D)          (None, 8, 8, 128)         73856     \n",
      "                                                                 \n",
      " batch_normalization_11 (Bat  (None, 8, 8, 128)        512       \n",
      " chNormalization)                                                \n",
      "                                                                 \n",
      " dropout_6 (Dropout)         (None, 8, 8, 128)         0         \n",
      "                                                                 \n",
      " conv2d_17 (Conv2D)          (None, 8, 8, 128)         147584    \n",
      "                                                                 \n",
      " batch_normalization_12 (Bat  (None, 8, 8, 128)        512       \n",
      " chNormalization)                                                \n",
      "                                                                 \n",
      " max_pooling2d_11 (MaxPoolin  (None, 4, 4, 128)        0         \n",
      " g2D)                                                            \n",
      "                                                                 \n",
      " flatten_2 (Flatten)         (None, 2048)              0         \n",
      "                                                                 \n",
      " dense_4 (Dense)             (None, 256)               524544    \n",
      "                                                                 \n",
      " batch_normalization_13 (Bat  (None, 256)              1024      \n",
      " chNormalization)                                                \n",
      "                                                                 \n",
      " dropout_7 (Dropout)         (None, 256)               0         \n",
      "                                                                 \n",
      " dense_5 (Dense)             (None, 100)               25700     \n",
      "                                                                 \n",
      "=================================================================\n",
      "Total params: 840,068\n",
      "Trainable params: 838,660\n",
      "Non-trainable params: 1,408\n",
      "_________________________________________________________________\n"
     ]
    }
   ],
   "source": [
    "model5.summary()"
   ]
  },
  {
   "cell_type": "code",
   "execution_count": 18,
   "id": "e49ca1d5-7c28-4ed9-9440-c5d56a03d149",
   "metadata": {},
   "outputs": [],
   "source": [
    "model5.compile(loss='categorical_crossentropy',\n",
    "              optimizer='adam',\n",
    "              metrics=['acc'])"
   ]
  },
  {
   "cell_type": "code",
   "execution_count": 132,
   "id": "651eb354-c173-4cd7-bc37-927d85080a85",
   "metadata": {},
   "outputs": [
    {
     "name": "stdout",
     "output_type": "stream",
     "text": [
      "Epoch 1/16\n",
      "313/313 [==============================] - 76s 242ms/step - loss: 3.6714 - acc: 0.1576 - val_loss: 4.3761 - val_acc: 0.0823\n",
      "Epoch 2/16\n",
      "313/313 [==============================] - 77s 247ms/step - loss: 2.8281 - acc: 0.2982 - val_loss: 2.8822 - val_acc: 0.3011\n",
      "Epoch 3/16\n",
      "313/313 [==============================] - 81s 260ms/step - loss: 2.3531 - acc: 0.3905 - val_loss: 2.2967 - val_acc: 0.4091\n",
      "Epoch 4/16\n",
      "313/313 [==============================] - 94s 301ms/step - loss: 2.0486 - acc: 0.4583 - val_loss: 2.2862 - val_acc: 0.4131\n",
      "Epoch 5/16\n",
      "313/313 [==============================] - 90s 288ms/step - loss: 1.8376 - acc: 0.5038 - val_loss: 2.1297 - val_acc: 0.4446\n",
      "Epoch 6/16\n",
      "313/313 [==============================] - 91s 292ms/step - loss: 1.6223 - acc: 0.5552 - val_loss: 2.0168 - val_acc: 0.4760\n",
      "Epoch 7/16\n",
      "313/313 [==============================] - 84s 268ms/step - loss: 1.4603 - acc: 0.5919 - val_loss: 2.0531 - val_acc: 0.4807\n",
      "Epoch 8/16\n",
      "313/313 [==============================] - 94s 302ms/step - loss: 1.2913 - acc: 0.6297 - val_loss: 2.1016 - val_acc: 0.4750\n",
      "Epoch 9/16\n",
      "313/313 [==============================] - 98s 313ms/step - loss: 1.1378 - acc: 0.6701 - val_loss: 1.9967 - val_acc: 0.4986\n",
      "Epoch 10/16\n",
      "313/313 [==============================] - 100s 318ms/step - loss: 1.0094 - acc: 0.7035 - val_loss: 2.2863 - val_acc: 0.4646\n",
      "Epoch 11/16\n",
      "313/313 [==============================] - 99s 316ms/step - loss: 0.8979 - acc: 0.7332 - val_loss: 2.1217 - val_acc: 0.5042\n",
      "Epoch 12/16\n",
      "313/313 [==============================] - 100s 319ms/step - loss: 0.7940 - acc: 0.7605 - val_loss: 2.1157 - val_acc: 0.4976\n",
      "Epoch 13/16\n",
      "313/313 [==============================] - 94s 300ms/step - loss: 0.7139 - acc: 0.7799 - val_loss: 2.2762 - val_acc: 0.4915\n",
      "Epoch 14/16\n",
      "313/313 [==============================] - 92s 295ms/step - loss: 0.6314 - acc: 0.8032 - val_loss: 2.2133 - val_acc: 0.4961\n",
      "Epoch 15/16\n",
      "313/313 [==============================] - 101s 324ms/step - loss: 0.5804 - acc: 0.8179 - val_loss: 2.3248 - val_acc: 0.4939\n",
      "Epoch 16/16\n",
      "313/313 [==============================] - 101s 322ms/step - loss: 0.5191 - acc: 0.8357 - val_loss: 2.4174 - val_acc: 0.4930\n"
     ]
    }
   ],
   "source": [
    "\n",
    "history = model5.fit(X_train, Y_train, epochs=16, batch_size = 128, validation_data=(X_val, Y_val), verbose = 1)"
   ]
  },
  {
   "cell_type": "markdown",
   "id": "98943926-4ff5-439f-a0f9-2f45c82c662d",
   "metadata": {},
   "source": [
    "## Model 6"
   ]
  },
  {
   "cell_type": "code",
   "execution_count": 20,
   "id": "55eaa0da-7172-4e49-8085-17ef9344a306",
   "metadata": {},
   "outputs": [],
   "source": [
    "model6 = models.Sequential()\n",
    "\n",
    "model6.add(layers.Conv2D(32, (3, 3), activation = 'relu', padding = 'same', input_shape = (32, 32, 3)))\n",
    "model6.add(layers.MaxPooling2D(2, 2))\n",
    "model6.add(layers.Conv2D(64, (3, 3), activation = 'relu', padding = 'same'))\n",
    "model6.add(layers.MaxPooling2D(2, 2))\n",
    "model6.add(layers.Conv2D(128, (3, 3), activation = 'relu', padding = 'same'))\n",
    "model6.add(layers.MaxPooling2D(2, 2))\n",
    "model6.add(layers.Flatten())\n",
    "model6.add(layers.Dense(256, activation = 'relu'))\n",
    "model6.add(layers.Dense(256, activation = 'relu'))\n",
    "model6.add(layers.Dense(100, activation = 'softmax'))"
   ]
  },
  {
   "cell_type": "code",
   "execution_count": 21,
   "id": "b7169e8a-a5f9-4663-836c-d4da8bb33e79",
   "metadata": {},
   "outputs": [
    {
     "name": "stdout",
     "output_type": "stream",
     "text": [
      "Model: \"sequential_3\"\n",
      "_________________________________________________________________\n",
      " Layer (type)                Output Shape              Param #   \n",
      "=================================================================\n",
      " conv2d_18 (Conv2D)          (None, 32, 32, 32)        896       \n",
      "                                                                 \n",
      " max_pooling2d_12 (MaxPoolin  (None, 16, 16, 32)       0         \n",
      " g2D)                                                            \n",
      "                                                                 \n",
      " conv2d_19 (Conv2D)          (None, 16, 16, 64)        18496     \n",
      "                                                                 \n",
      " max_pooling2d_13 (MaxPoolin  (None, 8, 8, 64)         0         \n",
      " g2D)                                                            \n",
      "                                                                 \n",
      " conv2d_20 (Conv2D)          (None, 8, 8, 128)         73856     \n",
      "                                                                 \n",
      " max_pooling2d_14 (MaxPoolin  (None, 4, 4, 128)        0         \n",
      " g2D)                                                            \n",
      "                                                                 \n",
      " flatten_3 (Flatten)         (None, 2048)              0         \n",
      "                                                                 \n",
      " dense_6 (Dense)             (None, 256)               524544    \n",
      "                                                                 \n",
      " dense_7 (Dense)             (None, 256)               65792     \n",
      "                                                                 \n",
      " dense_8 (Dense)             (None, 100)               25700     \n",
      "                                                                 \n",
      "=================================================================\n",
      "Total params: 709,284\n",
      "Trainable params: 709,284\n",
      "Non-trainable params: 0\n",
      "_________________________________________________________________\n"
     ]
    }
   ],
   "source": [
    "model6.summary()"
   ]
  },
  {
   "cell_type": "code",
   "execution_count": 22,
   "id": "a4e079ac-7c71-422d-a357-0d53513317a6",
   "metadata": {},
   "outputs": [],
   "source": [
    "model6.compile(loss='categorical_crossentropy',\n",
    "              optimizer='adam',\n",
    "              metrics=['acc'])\n"
   ]
  },
  {
   "cell_type": "code",
   "execution_count": 135,
   "id": "5049dae2-2a8a-4929-8ce3-4a720eb14568",
   "metadata": {},
   "outputs": [
    {
     "name": "stdout",
     "output_type": "stream",
     "text": [
      "Epoch 1/16\n",
      "313/313 [==============================] - 26s 82ms/step - loss: 4.0055 - acc: 0.0851 - val_loss: 3.5396 - val_acc: 0.1584\n",
      "Epoch 2/16\n",
      "313/313 [==============================] - 24s 78ms/step - loss: 3.2873 - acc: 0.2007 - val_loss: 3.0813 - val_acc: 0.2348\n",
      "Epoch 3/16\n",
      "313/313 [==============================] - 24s 76ms/step - loss: 2.9243 - acc: 0.2703 - val_loss: 2.8445 - val_acc: 0.2895\n",
      "Epoch 4/16\n",
      "313/313 [==============================] - 23s 74ms/step - loss: 2.6730 - acc: 0.3164 - val_loss: 2.7203 - val_acc: 0.3105\n",
      "Epoch 5/16\n",
      "313/313 [==============================] - 23s 73ms/step - loss: 2.4622 - acc: 0.3620 - val_loss: 2.5893 - val_acc: 0.3419\n",
      "Epoch 6/16\n",
      "313/313 [==============================] - 23s 73ms/step - loss: 2.2834 - acc: 0.4006 - val_loss: 2.5281 - val_acc: 0.3560\n",
      "Epoch 7/16\n",
      "313/313 [==============================] - 23s 74ms/step - loss: 2.1177 - acc: 0.4369 - val_loss: 2.4622 - val_acc: 0.3799\n",
      "Epoch 8/16\n",
      "313/313 [==============================] - 23s 75ms/step - loss: 1.9768 - acc: 0.4699 - val_loss: 2.4134 - val_acc: 0.3908\n",
      "Epoch 9/16\n",
      "313/313 [==============================] - 23s 73ms/step - loss: 1.8273 - acc: 0.5027 - val_loss: 2.4319 - val_acc: 0.3881\n",
      "Epoch 10/16\n",
      "313/313 [==============================] - 23s 73ms/step - loss: 1.7038 - acc: 0.5312 - val_loss: 2.4962 - val_acc: 0.3892\n",
      "Epoch 11/16\n",
      "313/313 [==============================] - 22s 72ms/step - loss: 1.5788 - acc: 0.5600 - val_loss: 2.5183 - val_acc: 0.3896\n",
      "Epoch 12/16\n",
      "313/313 [==============================] - 23s 73ms/step - loss: 1.4541 - acc: 0.5914 - val_loss: 2.5080 - val_acc: 0.3981\n",
      "Epoch 13/16\n",
      "313/313 [==============================] - 23s 73ms/step - loss: 1.3288 - acc: 0.6236 - val_loss: 2.5845 - val_acc: 0.3918\n",
      "Epoch 14/16\n",
      "313/313 [==============================] - 23s 75ms/step - loss: 1.2079 - acc: 0.6535 - val_loss: 2.6767 - val_acc: 0.3910\n",
      "Epoch 15/16\n",
      "313/313 [==============================] - 23s 74ms/step - loss: 1.1001 - acc: 0.6786 - val_loss: 2.7793 - val_acc: 0.3886\n",
      "Epoch 16/16\n",
      "313/313 [==============================] - 23s 74ms/step - loss: 0.9869 - acc: 0.7095 - val_loss: 2.9156 - val_acc: 0.3855\n"
     ]
    }
   ],
   "source": [
    "\n",
    "history = model6.fit(X_train, Y_train, epochs=16, batch_size = 128, validation_data=(X_val, Y_val), verbose = 1)"
   ]
  },
  {
   "cell_type": "markdown",
   "id": "d1200cbf-9417-4891-9883-4e58ca5642dd",
   "metadata": {},
   "source": [
    "## Model 7"
   ]
  },
  {
   "cell_type": "code",
   "execution_count": 5,
   "id": "ea03ca06-f544-4927-b4e7-5e265b9e5638",
   "metadata": {},
   "outputs": [],
   "source": [
    "model7 = models.Sequential()\n",
    "model7.add(layers.Conv2D(64, (3, 3), activation = 'elu', padding = 'same', input_shape = (32, 32, 3)))\n",
    "model7.add(layers.BatchNormalization())\n",
    "model7.add(layers.Dropout(0.3))\n",
    "model7.add(layers.Conv2D(64, (3, 3), activation = 'elu', padding = 'same'))\n",
    "model7.add(layers.BatchNormalization())\n",
    "model7.add(layers.MaxPooling2D(2, 2))\n",
    "model7.add(layers.Conv2D(128, (3, 3), activation = 'elu', padding = 'same'))\n",
    "model7.add(layers.BatchNormalization())\n",
    "model7.add(layers.Dropout(0.3))\n",
    "model7.add(layers.Conv2D(128, (3, 3), activation = 'elu', padding = 'same'))\n",
    "model7.add(layers.BatchNormalization())\n",
    "model7.add(layers.MaxPooling2D(2, 2))\n",
    "model7.add(layers.Conv2D(256, (3, 3), activation = 'elu', padding = 'same'))\n",
    "model7.add(layers.BatchNormalization())\n",
    "model7.add(layers.Dropout(0.3))\n",
    "model7.add(layers.Conv2D(256, (3, 3), activation = 'elu', padding = 'same'))\n",
    "model7.add(layers.BatchNormalization())\n",
    "model7.add(layers.MaxPooling2D(2, 2))\n",
    "model7.add(layers.Flatten())\n",
    "model7.add(layers.Dense(512, activation = 'relu'))\n",
    "model7.add(layers.BatchNormalization())\n",
    "model7.add(layers.Dropout(0.3))\n",
    "model7.add(layers.Dense(1024, activation = 'relu'))\n",
    "model7.add(layers.BatchNormalization())\n",
    "model7.add(layers.Dropout(0.3))\n",
    "model7.add(layers.Dense(100, activation = 'softmax'))"
   ]
  },
  {
   "cell_type": "code",
   "execution_count": 6,
   "id": "e4629377-dcd1-4848-89f1-2c0f821a0906",
   "metadata": {},
   "outputs": [
    {
     "name": "stdout",
     "output_type": "stream",
     "text": [
      "Model: \"sequential\"\n",
      "_________________________________________________________________\n",
      " Layer (type)                Output Shape              Param #   \n",
      "=================================================================\n",
      " conv2d (Conv2D)             (None, 32, 32, 64)        1792      \n",
      "                                                                 \n",
      " batch_normalization (BatchN  (None, 32, 32, 64)       256       \n",
      " ormalization)                                                   \n",
      "                                                                 \n",
      " dropout (Dropout)           (None, 32, 32, 64)        0         \n",
      "                                                                 \n",
      " conv2d_1 (Conv2D)           (None, 32, 32, 64)        36928     \n",
      "                                                                 \n",
      " batch_normalization_1 (Batc  (None, 32, 32, 64)       256       \n",
      " hNormalization)                                                 \n",
      "                                                                 \n",
      " max_pooling2d (MaxPooling2D  (None, 16, 16, 64)       0         \n",
      " )                                                               \n",
      "                                                                 \n",
      " conv2d_2 (Conv2D)           (None, 16, 16, 128)       73856     \n",
      "                                                                 \n",
      " batch_normalization_2 (Batc  (None, 16, 16, 128)      512       \n",
      " hNormalization)                                                 \n",
      "                                                                 \n",
      " dropout_1 (Dropout)         (None, 16, 16, 128)       0         \n",
      "                                                                 \n",
      " conv2d_3 (Conv2D)           (None, 16, 16, 128)       147584    \n",
      "                                                                 \n",
      " batch_normalization_3 (Batc  (None, 16, 16, 128)      512       \n",
      " hNormalization)                                                 \n",
      "                                                                 \n",
      " max_pooling2d_1 (MaxPooling  (None, 8, 8, 128)        0         \n",
      " 2D)                                                             \n",
      "                                                                 \n",
      " conv2d_4 (Conv2D)           (None, 8, 8, 256)         295168    \n",
      "                                                                 \n",
      " batch_normalization_4 (Batc  (None, 8, 8, 256)        1024      \n",
      " hNormalization)                                                 \n",
      "                                                                 \n",
      " dropout_2 (Dropout)         (None, 8, 8, 256)         0         \n",
      "                                                                 \n",
      " conv2d_5 (Conv2D)           (None, 8, 8, 256)         590080    \n",
      "                                                                 \n",
      " batch_normalization_5 (Batc  (None, 8, 8, 256)        1024      \n",
      " hNormalization)                                                 \n",
      "                                                                 \n",
      " max_pooling2d_2 (MaxPooling  (None, 4, 4, 256)        0         \n",
      " 2D)                                                             \n",
      "                                                                 \n",
      " flatten (Flatten)           (None, 4096)              0         \n",
      "                                                                 \n",
      " dense (Dense)               (None, 512)               2097664   \n",
      "                                                                 \n",
      " batch_normalization_6 (Batc  (None, 512)              2048      \n",
      " hNormalization)                                                 \n",
      "                                                                 \n",
      " dropout_3 (Dropout)         (None, 512)               0         \n",
      "                                                                 \n",
      " dense_1 (Dense)             (None, 1024)              525312    \n",
      "                                                                 \n",
      " batch_normalization_7 (Batc  (None, 1024)             4096      \n",
      " hNormalization)                                                 \n",
      "                                                                 \n",
      " dropout_4 (Dropout)         (None, 1024)              0         \n",
      "                                                                 \n",
      " dense_2 (Dense)             (None, 100)               102500    \n",
      "                                                                 \n",
      "=================================================================\n",
      "Total params: 3,880,612\n",
      "Trainable params: 3,875,748\n",
      "Non-trainable params: 4,864\n",
      "_________________________________________________________________\n"
     ]
    }
   ],
   "source": [
    "model7.summary()"
   ]
  },
  {
   "cell_type": "code",
   "execution_count": 12,
   "id": "6f6942ae-1e1a-4552-89e1-699bbc8d3578",
   "metadata": {},
   "outputs": [],
   "source": [
    "model7.compile(loss='categorical_crossentropy',\n",
    "              optimizer='adam',\n",
    "              metrics=['acc'])\n"
   ]
  },
  {
   "cell_type": "code",
   "execution_count": 139,
   "id": "800231b4-414b-4574-ad87-6393a14b18c8",
   "metadata": {},
   "outputs": [
    {
     "name": "stdout",
     "output_type": "stream",
     "text": [
      "Epoch 1/16\n",
      "313/313 [==============================] - 239s 762ms/step - loss: 4.0806 - acc: 0.1182 - val_loss: 6.5678 - val_acc: 0.0263\n",
      "Epoch 2/16\n",
      "313/313 [==============================] - 267s 854ms/step - loss: 3.1930 - acc: 0.2328 - val_loss: 3.3148 - val_acc: 0.2374\n",
      "Epoch 3/16\n",
      "313/313 [==============================] - 273s 873ms/step - loss: 2.6462 - acc: 0.3317 - val_loss: 2.5093 - val_acc: 0.3687\n",
      "Epoch 4/16\n",
      "313/313 [==============================] - 270s 864ms/step - loss: 2.2856 - acc: 0.3995 - val_loss: 2.5144 - val_acc: 0.3858\n",
      "Epoch 5/16\n",
      "313/313 [==============================] - 259s 827ms/step - loss: 2.0179 - acc: 0.4581 - val_loss: 2.4127 - val_acc: 0.3957\n",
      "Epoch 6/16\n",
      "313/313 [==============================] - 274s 874ms/step - loss: 1.7978 - acc: 0.5040 - val_loss: 2.0932 - val_acc: 0.4678\n",
      "Epoch 7/16\n",
      "313/313 [==============================] - 264s 844ms/step - loss: 1.6068 - acc: 0.5500 - val_loss: 2.0722 - val_acc: 0.4790\n",
      "Epoch 8/16\n",
      "313/313 [==============================] - 245s 782ms/step - loss: 1.4174 - acc: 0.5922 - val_loss: 1.9940 - val_acc: 0.4972\n",
      "Epoch 9/16\n",
      "313/313 [==============================] - 326s 1s/step - loss: 1.2380 - acc: 0.6335 - val_loss: 2.0433 - val_acc: 0.4993\n",
      "Epoch 10/16\n",
      "313/313 [==============================] - 365s 1s/step - loss: 1.0867 - acc: 0.6768 - val_loss: 2.0194 - val_acc: 0.5093\n",
      "Epoch 11/16\n",
      "313/313 [==============================] - 385s 1s/step - loss: 0.9336 - acc: 0.7155 - val_loss: 1.9793 - val_acc: 0.5201\n",
      "Epoch 12/16\n",
      "313/313 [==============================] - 380s 1s/step - loss: 0.8047 - acc: 0.7505 - val_loss: 2.0705 - val_acc: 0.5163\n",
      "Epoch 13/16\n",
      "313/313 [==============================] - 354s 1s/step - loss: 0.6964 - acc: 0.7814 - val_loss: 2.2169 - val_acc: 0.5092\n",
      "Epoch 14/16\n",
      "313/313 [==============================] - 358s 1s/step - loss: 0.6067 - acc: 0.8071 - val_loss: 2.1672 - val_acc: 0.5239\n",
      "Epoch 15/16\n",
      "313/313 [==============================] - 352s 1s/step - loss: 0.5353 - acc: 0.8317 - val_loss: 2.3129 - val_acc: 0.5130\n",
      "Epoch 16/16\n",
      "313/313 [==============================] - 350s 1s/step - loss: 0.4726 - acc: 0.8465 - val_loss: 2.2420 - val_acc: 0.5312\n"
     ]
    }
   ],
   "source": [
    "\n",
    "history = model7.fit(X_train, Y_train, epochs=16, batch_size = 128, validation_data=(X_val, Y_val), verbose = 1)"
   ]
  },
  {
   "cell_type": "code",
   "execution_count": 9,
   "id": "fc5c9a6d-4a81-4e2e-b782-3a7437207781",
   "metadata": {},
   "outputs": [],
   "source": [
    "Y_training = np_utils.to_categorical(Y_training,100) "
   ]
  },
  {
   "cell_type": "code",
   "execution_count": 13,
   "id": "d198b194-efa3-4496-8c5f-a25a5d8ac5ac",
   "metadata": {},
   "outputs": [],
   "source": [
    "## retraining the top three models\n",
    "## Model 5,6,7"
   ]
  },
  {
   "cell_type": "code",
   "execution_count": 19,
   "id": "49e04c7a-1cc9-44b5-97fb-db1c9f182817",
   "metadata": {
    "scrolled": true
   },
   "outputs": [
    {
     "name": "stdout",
     "output_type": "stream",
     "text": [
      "Epoch 1/16\n",
      "391/391 [==============================] - 133s 338ms/step - loss: 3.5770 - acc: 0.1706\n",
      "Epoch 2/16\n",
      "391/391 [==============================] - 137s 352ms/step - loss: 2.6347 - acc: 0.3337\n",
      "Epoch 3/16\n",
      "391/391 [==============================] - 138s 352ms/step - loss: 2.1914 - acc: 0.4276\n",
      "Epoch 4/16\n",
      "391/391 [==============================] - 138s 353ms/step - loss: 1.9236 - acc: 0.4862\n",
      "Epoch 5/16\n",
      "391/391 [==============================] - 131s 336ms/step - loss: 1.7006 - acc: 0.5344\n",
      "Epoch 6/16\n",
      "391/391 [==============================] - 138s 354ms/step - loss: 1.5230 - acc: 0.5782\n",
      "Epoch 7/16\n",
      "391/391 [==============================] - 131s 335ms/step - loss: 1.3525 - acc: 0.6208\n",
      "Epoch 8/16\n",
      "391/391 [==============================] - 140s 358ms/step - loss: 1.2062 - acc: 0.6544\n",
      "Epoch 9/16\n",
      "391/391 [==============================] - 137s 351ms/step - loss: 1.0789 - acc: 0.6852\n",
      "Epoch 10/16\n",
      "391/391 [==============================] - 138s 353ms/step - loss: 0.9578 - acc: 0.7177\n",
      "Epoch 11/16\n",
      "391/391 [==============================] - 131s 336ms/step - loss: 0.8662 - acc: 0.7379\n",
      "Epoch 12/16\n",
      "391/391 [==============================] - 136s 347ms/step - loss: 0.7849 - acc: 0.7615\n",
      "Epoch 13/16\n",
      "391/391 [==============================] - 131s 335ms/step - loss: 0.7036 - acc: 0.7827\n",
      "Epoch 14/16\n",
      "391/391 [==============================] - 131s 336ms/step - loss: 0.6362 - acc: 0.8012\n",
      "Epoch 15/16\n",
      "391/391 [==============================] - 132s 338ms/step - loss: 0.5858 - acc: 0.8157\n",
      "Epoch 16/16\n",
      "391/391 [==============================] - 131s 336ms/step - loss: 0.5390 - acc: 0.8292\n"
     ]
    }
   ],
   "source": [
    "history5 = model5.fit(X_training, Y_training, epochs=16, batch_size = 128, verbose = 1)"
   ]
  },
  {
   "cell_type": "code",
   "execution_count": 28,
   "id": "c44f34bf-9f95-4c0a-95cc-7d098eb2c9c6",
   "metadata": {},
   "outputs": [
    {
     "name": "stdout",
     "output_type": "stream",
     "text": [
      "313/313 [==============================] - 10s 30ms/step - loss: 2.1843 - acc: 0.5163\n",
      "Accuracy of model 5 :  51.63000226020813\n"
     ]
    }
   ],
   "source": [
    "_, accuracy5 = model5.evaluate(X_test, Y_test)\n",
    "print('Accuracy of model 5 : ' ,accuracy5*100)"
   ]
  },
  {
   "cell_type": "code",
   "execution_count": 26,
   "id": "b7323482-0645-44da-b4ef-f664e3e1718e",
   "metadata": {},
   "outputs": [
    {
     "name": "stdout",
     "output_type": "stream",
     "text": [
      "Epoch 1/16\n",
      "391/391 [==============================] - 35s 88ms/step - loss: 3.8883 - acc: 0.1025\n",
      "Epoch 2/16\n",
      "391/391 [==============================] - 33s 84ms/step - loss: 3.1241 - acc: 0.2319\n",
      "Epoch 3/16\n",
      "391/391 [==============================] - 33s 84ms/step - loss: 2.7427 - acc: 0.3067\n",
      "Epoch 4/16\n",
      "391/391 [==============================] - 33s 84ms/step - loss: 2.4695 - acc: 0.3619\n",
      "Epoch 5/16\n",
      "391/391 [==============================] - 32s 83ms/step - loss: 2.2592 - acc: 0.4075\n",
      "Epoch 6/16\n",
      "391/391 [==============================] - 33s 84ms/step - loss: 2.0814 - acc: 0.4463\n",
      "Epoch 7/16\n",
      "391/391 [==============================] - 37s 94ms/step - loss: 1.9238 - acc: 0.4818\n",
      "Epoch 8/16\n",
      "391/391 [==============================] - 35s 90ms/step - loss: 1.7688 - acc: 0.5180\n",
      "Epoch 9/16\n",
      "391/391 [==============================] - 35s 89ms/step - loss: 1.6268 - acc: 0.5487\n",
      "Epoch 10/16\n",
      "391/391 [==============================] - 35s 90ms/step - loss: 1.4972 - acc: 0.5791\n",
      "Epoch 11/16\n",
      "391/391 [==============================] - 39s 101ms/step - loss: 1.3714 - acc: 0.6082\n",
      "Epoch 12/16\n",
      "391/391 [==============================] - 34s 88ms/step - loss: 1.2488 - acc: 0.6401\n",
      "Epoch 13/16\n",
      "391/391 [==============================] - 33s 83ms/step - loss: 1.1357 - acc: 0.6677\n",
      "Epoch 14/16\n",
      "391/391 [==============================] - 33s 84ms/step - loss: 1.0156 - acc: 0.7022\n",
      "Epoch 15/16\n",
      "391/391 [==============================] - 33s 84ms/step - loss: 0.8962 - acc: 0.7344\n",
      "Epoch 16/16\n",
      "391/391 [==============================] - 33s 84ms/step - loss: 0.8047 - acc: 0.7589\n"
     ]
    }
   ],
   "source": [
    "history6 = model6.fit(X_training, Y_training, epochs=16, batch_size = 128, verbose = 1)"
   ]
  },
  {
   "cell_type": "code",
   "execution_count": 30,
   "id": "2dcb8d54-f302-4c1e-93ad-4ba3b584e2d2",
   "metadata": {},
   "outputs": [
    {
     "name": "stdout",
     "output_type": "stream",
     "text": [
      "313/313 [==============================] - 3s 8ms/step - loss: 2.8552 - acc: 0.4185\n",
      "Accuracy of model 6 :  41.850000619888306\n"
     ]
    }
   ],
   "source": [
    "\n",
    "_, accuracy6 = model6.evaluate(X_test, Y_test)\n",
    "print('Accuracy of model 6 : ' ,accuracy6*100)"
   ]
  },
  {
   "cell_type": "code",
   "execution_count": 13,
   "id": "70d26a92-e3dd-49e6-bc2c-cf754ea763c7",
   "metadata": {
    "scrolled": true
   },
   "outputs": [
    {
     "name": "stdout",
     "output_type": "stream",
     "text": [
      "Epoch 1/16\n",
      "391/391 [==============================] - 428s 1s/step - loss: 3.9186 - acc: 0.1385\n",
      "Epoch 2/16\n",
      "391/391 [==============================] - 410s 1s/step - loss: 2.9440 - acc: 0.2770\n",
      "Epoch 3/16\n",
      "391/391 [==============================] - 407s 1s/step - loss: 2.4152 - acc: 0.3749\n",
      "Epoch 4/16\n",
      "391/391 [==============================] - 409s 1s/step - loss: 2.0875 - acc: 0.4416\n",
      "Epoch 5/16\n",
      "391/391 [==============================] - 413s 1s/step - loss: 1.8412 - acc: 0.4974\n",
      "Epoch 6/16\n",
      "391/391 [==============================] - 4054s 10s/step - loss: 1.6281 - acc: 0.5467\n",
      "Epoch 7/16\n",
      "391/391 [==============================] - 572s 1s/step - loss: 1.4574 - acc: 0.5850\n",
      "Epoch 8/16\n",
      "391/391 [==============================] - 407s 1s/step - loss: 1.2904 - acc: 0.6267\n",
      "Epoch 9/16\n",
      "391/391 [==============================] - 411s 1s/step - loss: 1.1403 - acc: 0.6650\n",
      "Epoch 10/16\n",
      "391/391 [==============================] - 415s 1s/step - loss: 0.9958 - acc: 0.7005\n",
      "Epoch 11/16\n",
      "391/391 [==============================] - 416s 1s/step - loss: 0.8622 - acc: 0.7372\n",
      "Epoch 12/16\n",
      "391/391 [==============================] - 412s 1s/step - loss: 0.7646 - acc: 0.7618\n",
      "Epoch 13/16\n",
      "391/391 [==============================] - 418s 1s/step - loss: 0.6450 - acc: 0.7975\n",
      "Epoch 14/16\n",
      "391/391 [==============================] - 418s 1s/step - loss: 0.5845 - acc: 0.8133\n",
      "Epoch 15/16\n",
      "391/391 [==============================] - 418s 1s/step - loss: 0.5221 - acc: 0.8336\n",
      "Epoch 16/16\n",
      "391/391 [==============================] - 687s 2s/step - loss: 0.4704 - acc: 0.8479\n"
     ]
    }
   ],
   "source": [
    "history7 = model7.fit(X_training, Y_training, epochs=16, batch_size = 128, verbose = 1)"
   ]
  },
  {
   "cell_type": "code",
   "execution_count": 14,
   "id": "1875d1a1-7b59-49a3-a331-0e4273334b1e",
   "metadata": {},
   "outputs": [
    {
     "name": "stdout",
     "output_type": "stream",
     "text": [
      "313/313 [==============================] - 26s 84ms/step - loss: 2.1223 - acc: 0.5466\n",
      "Accuracy of model 7 :  54.659998416900635\n"
     ]
    }
   ],
   "source": [
    "_, accuracy7 = model7.evaluate(X_test, Y_test)\n",
    "print('Accuracy of model 7 : ', accuracy7*100)\n"
   ]
  },
  {
   "cell_type": "code",
   "execution_count": null,
   "id": "c2aeed29-4196-4f6d-96e7-0cafefccd6e6",
   "metadata": {},
   "outputs": [],
   "source": []
  }
 ],
 "metadata": {
  "kernelspec": {
   "display_name": "Python 3 (ipykernel)",
   "language": "python",
   "name": "python3"
  },
  "language_info": {
   "codemirror_mode": {
    "name": "ipython",
    "version": 3
   },
   "file_extension": ".py",
   "mimetype": "text/x-python",
   "name": "python",
   "nbconvert_exporter": "python",
   "pygments_lexer": "ipython3",
   "version": "3.11.4"
  }
 },
 "nbformat": 4,
 "nbformat_minor": 5
}
